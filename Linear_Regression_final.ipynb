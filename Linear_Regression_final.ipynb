{
 "cells": [
  {
   "cell_type": "markdown",
   "metadata": {},
   "source": [
    "# Data Analysis and Visualization : Shristi Maskay"
   ]
  },
  {
   "cell_type": "code",
   "execution_count": 23,
   "metadata": {},
   "outputs": [],
   "source": [
    "import numpy as np\n",
    "import pandas as pd\n",
    "import matplotlib.pyplot as plt\n",
    "import seaborn as sns\n",
    "import googletrans \n",
    "from googletrans import Translator\n",
    "import matplotlib.dates as mdates\n",
    "from datetime import datetime\n",
    "import calendar\n",
    "%matplotlib inline\n",
    "import warnings\n",
    "warnings.filterwarnings(\"ignore\")"
   ]
  },
  {
   "cell_type": "markdown",
   "metadata": {},
   "source": [
    "# Data Load"
   ]
  },
  {
   "cell_type": "code",
   "execution_count": 2,
   "metadata": {},
   "outputs": [
    {
     "data": {
      "text/html": [
       "<div>\n",
       "<style scoped>\n",
       "    .dataframe tbody tr th:only-of-type {\n",
       "        vertical-align: middle;\n",
       "    }\n",
       "\n",
       "    .dataframe tbody tr th {\n",
       "        vertical-align: top;\n",
       "    }\n",
       "\n",
       "    .dataframe thead th {\n",
       "        text-align: right;\n",
       "    }\n",
       "</style>\n",
       "<table border=\"1\" class=\"dataframe\">\n",
       "  <thead>\n",
       "    <tr style=\"text-align: right;\">\n",
       "      <th></th>\n",
       "      <th>कृषि उपज</th>\n",
       "      <th>ईकाइ</th>\n",
       "      <th>न्यूनतम</th>\n",
       "      <th>अधिकतम</th>\n",
       "      <th>औसत</th>\n",
       "      <th>cdate</th>\n",
       "      <th>pricetype</th>\n",
       "    </tr>\n",
       "  </thead>\n",
       "  <tbody>\n",
       "    <tr>\n",
       "      <th>0</th>\n",
       "      <td>गोलभेडा ठूलो(नेपाली)</td>\n",
       "      <td>के.जी.</td>\n",
       "      <td>३०</td>\n",
       "      <td>३५</td>\n",
       "      <td>३३</td>\n",
       "      <td>02/25/2018</td>\n",
       "      <td>W</td>\n",
       "    </tr>\n",
       "    <tr>\n",
       "      <th>1</th>\n",
       "      <td>गोलभेडा सानो</td>\n",
       "      <td>के.जी.</td>\n",
       "      <td>२५</td>\n",
       "      <td>३०</td>\n",
       "      <td>२८</td>\n",
       "      <td>02/25/2018</td>\n",
       "      <td>W</td>\n",
       "    </tr>\n",
       "    <tr>\n",
       "      <th>2</th>\n",
       "      <td>अालु रातो</td>\n",
       "      <td>के.जी.</td>\n",
       "      <td>२०</td>\n",
       "      <td>२३</td>\n",
       "      <td>२२</td>\n",
       "      <td>02/25/2018</td>\n",
       "      <td>W</td>\n",
       "    </tr>\n",
       "    <tr>\n",
       "      <th>3</th>\n",
       "      <td>अालु सेतो</td>\n",
       "      <td>के.जी.</td>\n",
       "      <td>१८</td>\n",
       "      <td>२०</td>\n",
       "      <td>१९</td>\n",
       "      <td>02/25/2018</td>\n",
       "      <td>W</td>\n",
       "    </tr>\n",
       "    <tr>\n",
       "      <th>4</th>\n",
       "      <td>प्याज सुकेको भारतीय</td>\n",
       "      <td>के.जी.</td>\n",
       "      <td>४४</td>\n",
       "      <td>४६</td>\n",
       "      <td>४५</td>\n",
       "      <td>02/25/2018</td>\n",
       "      <td>W</td>\n",
       "    </tr>\n",
       "  </tbody>\n",
       "</table>\n",
       "</div>"
      ],
      "text/plain": [
       "               कृषि उपज    ईकाइ न्यूनतम अधिकतम औसत       cdate pricetype\n",
       "0  गोलभेडा ठूलो(नेपाली)  के.जी.      ३०     ३५  ३३  02/25/2018         W\n",
       "1          गोलभेडा सानो  के.जी.      २५     ३०  २८  02/25/2018         W\n",
       "2             अालु रातो  के.जी.      २०     २३  २२  02/25/2018         W\n",
       "3             अालु सेतो  के.जी.      १८     २०  १९  02/25/2018         W\n",
       "4   प्याज सुकेको भारतीय  के.जी.      ४४     ४६  ४५  02/25/2018         W"
      ]
     },
     "execution_count": 2,
     "metadata": {},
     "output_type": "execute_result"
    }
   ],
   "source": [
    "df = pd.read_csv('Price.csv')\n",
    "df.head()"
   ]
  },
  {
   "cell_type": "markdown",
   "metadata": {},
   "source": [
    "# Data Cleaning"
   ]
  },
  {
   "cell_type": "markdown",
   "metadata": {},
   "source": [
    "###### Rename Column to readable form"
   ]
  },
  {
   "cell_type": "code",
   "execution_count": 3,
   "metadata": {},
   "outputs": [
    {
     "data": {
      "text/html": [
       "<div>\n",
       "<style scoped>\n",
       "    .dataframe tbody tr th:only-of-type {\n",
       "        vertical-align: middle;\n",
       "    }\n",
       "\n",
       "    .dataframe tbody tr th {\n",
       "        vertical-align: top;\n",
       "    }\n",
       "\n",
       "    .dataframe thead th {\n",
       "        text-align: right;\n",
       "    }\n",
       "</style>\n",
       "<table border=\"1\" class=\"dataframe\">\n",
       "  <thead>\n",
       "    <tr style=\"text-align: right;\">\n",
       "      <th></th>\n",
       "      <th>Vegetable</th>\n",
       "      <th>Unit</th>\n",
       "      <th>low_price</th>\n",
       "      <th>high_price</th>\n",
       "      <th>average</th>\n",
       "      <th>Date</th>\n",
       "      <th>priceType</th>\n",
       "    </tr>\n",
       "  </thead>\n",
       "  <tbody>\n",
       "    <tr>\n",
       "      <th>0</th>\n",
       "      <td>गोलभेडा ठूलो(नेपाली)</td>\n",
       "      <td>के.जी.</td>\n",
       "      <td>३०</td>\n",
       "      <td>३५</td>\n",
       "      <td>३३</td>\n",
       "      <td>02/25/2018</td>\n",
       "      <td>W</td>\n",
       "    </tr>\n",
       "    <tr>\n",
       "      <th>1</th>\n",
       "      <td>गोलभेडा सानो</td>\n",
       "      <td>के.जी.</td>\n",
       "      <td>२५</td>\n",
       "      <td>३०</td>\n",
       "      <td>२८</td>\n",
       "      <td>02/25/2018</td>\n",
       "      <td>W</td>\n",
       "    </tr>\n",
       "    <tr>\n",
       "      <th>2</th>\n",
       "      <td>अालु रातो</td>\n",
       "      <td>के.जी.</td>\n",
       "      <td>२०</td>\n",
       "      <td>२३</td>\n",
       "      <td>२२</td>\n",
       "      <td>02/25/2018</td>\n",
       "      <td>W</td>\n",
       "    </tr>\n",
       "    <tr>\n",
       "      <th>3</th>\n",
       "      <td>अालु सेतो</td>\n",
       "      <td>के.जी.</td>\n",
       "      <td>१८</td>\n",
       "      <td>२०</td>\n",
       "      <td>१९</td>\n",
       "      <td>02/25/2018</td>\n",
       "      <td>W</td>\n",
       "    </tr>\n",
       "    <tr>\n",
       "      <th>4</th>\n",
       "      <td>प्याज सुकेको भारतीय</td>\n",
       "      <td>के.जी.</td>\n",
       "      <td>४४</td>\n",
       "      <td>४६</td>\n",
       "      <td>४५</td>\n",
       "      <td>02/25/2018</td>\n",
       "      <td>W</td>\n",
       "    </tr>\n",
       "  </tbody>\n",
       "</table>\n",
       "</div>"
      ],
      "text/plain": [
       "              Vegetable    Unit low_price high_price average        Date  \\\n",
       "0  गोलभेडा ठूलो(नेपाली)  के.जी.        ३०         ३५      ३३  02/25/2018   \n",
       "1          गोलभेडा सानो  के.जी.        २५         ३०      २८  02/25/2018   \n",
       "2             अालु रातो  के.जी.        २०         २३      २२  02/25/2018   \n",
       "3             अालु सेतो  के.जी.        १८         २०      १९  02/25/2018   \n",
       "4   प्याज सुकेको भारतीय  के.जी.        ४४         ४६      ४५  02/25/2018   \n",
       "\n",
       "  priceType  \n",
       "0         W  \n",
       "1         W  \n",
       "2         W  \n",
       "3         W  \n",
       "4         W  "
      ]
     },
     "execution_count": 3,
     "metadata": {},
     "output_type": "execute_result"
    }
   ],
   "source": [
    "df.columns = ['Vegetable', 'Unit', 'low_price', 'high_price', \"average\", \"Date\", \"priceType\"]\n",
    "df.head()"
   ]
  },
  {
   "cell_type": "markdown",
   "metadata": {},
   "source": [
    "###### Translate price to integer format"
   ]
  },
  {
   "cell_type": "code",
   "execution_count": 4,
   "metadata": {},
   "outputs": [
    {
     "data": {
      "text/html": [
       "<div>\n",
       "<style scoped>\n",
       "    .dataframe tbody tr th:only-of-type {\n",
       "        vertical-align: middle;\n",
       "    }\n",
       "\n",
       "    .dataframe tbody tr th {\n",
       "        vertical-align: top;\n",
       "    }\n",
       "\n",
       "    .dataframe thead th {\n",
       "        text-align: right;\n",
       "    }\n",
       "</style>\n",
       "<table border=\"1\" class=\"dataframe\">\n",
       "  <thead>\n",
       "    <tr style=\"text-align: right;\">\n",
       "      <th></th>\n",
       "      <th>Vegetable</th>\n",
       "      <th>Unit</th>\n",
       "      <th>low_price</th>\n",
       "      <th>high_price</th>\n",
       "      <th>average</th>\n",
       "      <th>Date</th>\n",
       "      <th>priceType</th>\n",
       "    </tr>\n",
       "  </thead>\n",
       "  <tbody>\n",
       "    <tr>\n",
       "      <th>0</th>\n",
       "      <td>गोलभेडा ठूलो(नेपाली)</td>\n",
       "      <td>के.जी.</td>\n",
       "      <td>30</td>\n",
       "      <td>35</td>\n",
       "      <td>33</td>\n",
       "      <td>02/25/2018</td>\n",
       "      <td>W</td>\n",
       "    </tr>\n",
       "    <tr>\n",
       "      <th>1</th>\n",
       "      <td>गोलभेडा सानो</td>\n",
       "      <td>के.जी.</td>\n",
       "      <td>25</td>\n",
       "      <td>30</td>\n",
       "      <td>28</td>\n",
       "      <td>02/25/2018</td>\n",
       "      <td>W</td>\n",
       "    </tr>\n",
       "    <tr>\n",
       "      <th>2</th>\n",
       "      <td>अालु रातो</td>\n",
       "      <td>के.जी.</td>\n",
       "      <td>20</td>\n",
       "      <td>23</td>\n",
       "      <td>22</td>\n",
       "      <td>02/25/2018</td>\n",
       "      <td>W</td>\n",
       "    </tr>\n",
       "    <tr>\n",
       "      <th>3</th>\n",
       "      <td>अालु सेतो</td>\n",
       "      <td>के.जी.</td>\n",
       "      <td>18</td>\n",
       "      <td>20</td>\n",
       "      <td>19</td>\n",
       "      <td>02/25/2018</td>\n",
       "      <td>W</td>\n",
       "    </tr>\n",
       "    <tr>\n",
       "      <th>4</th>\n",
       "      <td>प्याज सुकेको भारतीय</td>\n",
       "      <td>के.जी.</td>\n",
       "      <td>44</td>\n",
       "      <td>46</td>\n",
       "      <td>45</td>\n",
       "      <td>02/25/2018</td>\n",
       "      <td>W</td>\n",
       "    </tr>\n",
       "  </tbody>\n",
       "</table>\n",
       "</div>"
      ],
      "text/plain": [
       "              Vegetable    Unit  low_price  high_price  average        Date  \\\n",
       "0  गोलभेडा ठूलो(नेपाली)  के.जी.         30          35       33  02/25/2018   \n",
       "1          गोलभेडा सानो  के.जी.         25          30       28  02/25/2018   \n",
       "2             अालु रातो  के.जी.         20          23       22  02/25/2018   \n",
       "3             अालु सेतो  के.जी.         18          20       19  02/25/2018   \n",
       "4   प्याज सुकेको भारतीय  के.जी.         44          46       45  02/25/2018   \n",
       "\n",
       "  priceType  \n",
       "0         W  \n",
       "1         W  \n",
       "2         W  \n",
       "3         W  \n",
       "4         W  "
      ]
     },
     "execution_count": 4,
     "metadata": {},
     "output_type": "execute_result"
    }
   ],
   "source": [
    "def convert(val):\n",
    "    result = []\n",
    "    for v in val:\n",
    "        result.append(int(v))\n",
    "    return result\n",
    "\n",
    "df['low_price'] = convert(df['low_price'].tolist())\n",
    "df['high_price'] = convert(df['high_price'].tolist())\n",
    "df['average'] = convert(df['average'].tolist())\n",
    "\n",
    "df.head()"
   ]
  },
  {
   "cell_type": "code",
   "execution_count": 5,
   "metadata": {},
   "outputs": [
    {
     "data": {
      "text/plain": [
       "kg     96430\n",
       "psc     1436\n",
       "doz     1436\n",
       "Name: Unit, dtype: int64"
      ]
     },
     "execution_count": 5,
     "metadata": {},
     "output_type": "execute_result"
    }
   ],
   "source": [
    "df['Unit'] = df['Unit'].str.replace('के.जी.', 'kg')\n",
    "df['Unit'] = df['Unit'].str.replace('के जी', 'kg')\n",
    "df['Unit'] = df['Unit'].str.replace('केजी', 'kg')\n",
    "df['Unit'] = df['Unit'].str.replace('प्रति गोटा', 'psc')\n",
    "df['Unit'] = df['Unit'].str.replace('दर्जन', 'doz')\n",
    "df_new = df\n",
    "\n",
    "df['Unit'].value_counts()"
   ]
  },
  {
   "cell_type": "markdown",
   "metadata": {},
   "source": [
    "###### use pandas datetime to convert Date to datetime format"
   ]
  },
  {
   "cell_type": "code",
   "execution_count": 6,
   "metadata": {},
   "outputs": [
    {
     "name": "stdout",
     "output_type": "stream",
     "text": [
      "Vegetable             object\n",
      "Unit                  object\n",
      "low_price              int64\n",
      "high_price             int64\n",
      "average                int64\n",
      "Date          datetime64[ns]\n",
      "priceType             object\n",
      "dtype: object\n"
     ]
    }
   ],
   "source": [
    "df['Date'] = pd.to_datetime(df['Date'])\n",
    "print(df.dtypes)"
   ]
  },
  {
   "cell_type": "code",
   "execution_count": 7,
   "metadata": {},
   "outputs": [
    {
     "data": {
      "text/plain": [
       "120"
      ]
     },
     "execution_count": 7,
     "metadata": {},
     "output_type": "execute_result"
    }
   ],
   "source": [
    "df.head()\n",
    "vegetable = set(df['Vegetable'].values)\n",
    "len(vegetable)\n"
   ]
  },
  {
   "cell_type": "markdown",
   "metadata": {},
   "source": [
    "# Data Analysis and Visualization"
   ]
  },
  {
   "cell_type": "markdown",
   "metadata": {},
   "source": [
    "###### Get Month from date "
   ]
  },
  {
   "cell_type": "code",
   "execution_count": 8,
   "metadata": {},
   "outputs": [
    {
     "data": {
      "text/html": [
       "<div>\n",
       "<style scoped>\n",
       "    .dataframe tbody tr th:only-of-type {\n",
       "        vertical-align: middle;\n",
       "    }\n",
       "\n",
       "    .dataframe tbody tr th {\n",
       "        vertical-align: top;\n",
       "    }\n",
       "\n",
       "    .dataframe thead th {\n",
       "        text-align: right;\n",
       "    }\n",
       "</style>\n",
       "<table border=\"1\" class=\"dataframe\">\n",
       "  <thead>\n",
       "    <tr style=\"text-align: right;\">\n",
       "      <th></th>\n",
       "      <th>Vegetable</th>\n",
       "      <th>Unit</th>\n",
       "      <th>low_price</th>\n",
       "      <th>high_price</th>\n",
       "      <th>average</th>\n",
       "      <th>Date</th>\n",
       "      <th>priceType</th>\n",
       "      <th>year</th>\n",
       "      <th>month</th>\n",
       "    </tr>\n",
       "  </thead>\n",
       "  <tbody>\n",
       "    <tr>\n",
       "      <th>0</th>\n",
       "      <td>गोलभेडा ठूलो(नेपाली)</td>\n",
       "      <td>kg</td>\n",
       "      <td>30</td>\n",
       "      <td>35</td>\n",
       "      <td>33</td>\n",
       "      <td>2018-02-25</td>\n",
       "      <td>W</td>\n",
       "      <td>2018</td>\n",
       "      <td>2</td>\n",
       "    </tr>\n",
       "    <tr>\n",
       "      <th>1</th>\n",
       "      <td>गोलभेडा सानो</td>\n",
       "      <td>kg</td>\n",
       "      <td>25</td>\n",
       "      <td>30</td>\n",
       "      <td>28</td>\n",
       "      <td>2018-02-25</td>\n",
       "      <td>W</td>\n",
       "      <td>2018</td>\n",
       "      <td>2</td>\n",
       "    </tr>\n",
       "    <tr>\n",
       "      <th>2</th>\n",
       "      <td>अालु रातो</td>\n",
       "      <td>kg</td>\n",
       "      <td>20</td>\n",
       "      <td>23</td>\n",
       "      <td>22</td>\n",
       "      <td>2018-02-25</td>\n",
       "      <td>W</td>\n",
       "      <td>2018</td>\n",
       "      <td>2</td>\n",
       "    </tr>\n",
       "    <tr>\n",
       "      <th>3</th>\n",
       "      <td>अालु सेतो</td>\n",
       "      <td>kg</td>\n",
       "      <td>18</td>\n",
       "      <td>20</td>\n",
       "      <td>19</td>\n",
       "      <td>2018-02-25</td>\n",
       "      <td>W</td>\n",
       "      <td>2018</td>\n",
       "      <td>2</td>\n",
       "    </tr>\n",
       "    <tr>\n",
       "      <th>4</th>\n",
       "      <td>प्याज सुकेको भारतीय</td>\n",
       "      <td>kg</td>\n",
       "      <td>44</td>\n",
       "      <td>46</td>\n",
       "      <td>45</td>\n",
       "      <td>2018-02-25</td>\n",
       "      <td>W</td>\n",
       "      <td>2018</td>\n",
       "      <td>2</td>\n",
       "    </tr>\n",
       "  </tbody>\n",
       "</table>\n",
       "</div>"
      ],
      "text/plain": [
       "              Vegetable Unit  low_price  high_price  average       Date  \\\n",
       "0  गोलभेडा ठूलो(नेपाली)   kg         30          35       33 2018-02-25   \n",
       "1          गोलभेडा सानो   kg         25          30       28 2018-02-25   \n",
       "2             अालु रातो   kg         20          23       22 2018-02-25   \n",
       "3             अालु सेतो   kg         18          20       19 2018-02-25   \n",
       "4   प्याज सुकेको भारतीय   kg         44          46       45 2018-02-25   \n",
       "\n",
       "  priceType  year  month  \n",
       "0         W  2018      2  \n",
       "1         W  2018      2  \n",
       "2         W  2018      2  \n",
       "3         W  2018      2  \n",
       "4         W  2018      2  "
      ]
     },
     "execution_count": 8,
     "metadata": {},
     "output_type": "execute_result"
    }
   ],
   "source": [
    "df['year']=''\n",
    "def getMonth(val):\n",
    "    result = []\n",
    "    for v in val:\n",
    "        result.append(v.month)\n",
    "    return result\n",
    "\n",
    "df['month'] = getMonth(df['Date'].tolist())\n",
    "df['year'] = pd.DatetimeIndex(df['Date']).year\n",
    "\n",
    "df.head()"
   ]
  },
  {
   "cell_type": "code",
   "execution_count": 9,
   "metadata": {},
   "outputs": [
    {
     "data": {
      "text/plain": [
       "dict_keys(['अंगुर(कालो)', 'अंगुर(हरियो)', 'अदुवा', 'अनार', 'अम्बा', 'अाँप(दसहरी)', 'अालु रातो', 'अालु सेतो', 'आँप(मालदह)', 'आलु रातो(भारतीय)', 'आलु रातो(मुडे)', 'इमली', 'काउली तरार्इ', 'काउली स्थानिय', 'काक्रो(लोकल)', 'काक्रो(हाइब्रीड)', 'कागती', 'कुरीलो', 'केरा', 'कोइरालो', 'खुर्सानी हरियो(अकबरे)', 'खुर्सानी हरियो(बुलेट)', 'खुर्सानी हरियो(माछे)', 'खु्र्सानी सुकेको', 'खु्र्सानी हरियो', 'गाजर(तराई)', 'गाजर(लोकल)', 'गान्टे मूला', 'गुन्दुक', 'गोलभेडा ठूलो(नेपाली)', 'गोलभेडा सानो', 'गोलभेडा सानो(टनेल)', 'गोलभेडा सानो(तराई)', 'गोलभेडा सानो(भारतीय)', 'ग्याठ कोबी', 'घिउ सिमी(राजमा)', 'घिउ सिमी(लोकल)', 'घिउ सिमी(हाइब्रीड)', 'घिरौला', 'चमसूरको साग', 'चिचिण्डो', 'चुकुन्दर', 'च्याउ(कन्य)', 'च्याउ(डल्ले)', 'छ्यापी सुकेको', 'छ्यापी हरियो', 'जिरीको साग', 'झिगूनी', 'टाटे सिमी', 'ठूलो गोलभेडा(भारतीय)', 'तरबुजा(पाटे)', 'तरबुजा(हरियो)', 'तरुल', 'ताजा माछा(छडी)', 'ताजा माछा(बचुवा)', 'ताजा माछा(म\\u200cंुगरी)', 'ताजा माछा(रहु)', 'तामा', 'तितो करेला', 'तोफु', 'तोरीको साग', 'नासपाती(चाइनिज)', 'नासपाती(लोकल)', 'न्यूरो', 'परवर(तराई)', 'परवर(लोकल)', 'पार्सले', 'पालूगो साग', 'पिंडालू', 'पुदीना', 'प्याज सुकेको भारतीय', 'प्याज हरियो', 'फर्सी पाकेको', 'फर्सी हरियो(लाम्चो)', 'बकूला', 'बन्दा(तराई)', 'बन्दा(नरिवल)', 'बन्दा(लोकल)', 'बरेला', 'बोडी(तने)', 'ब्रोकाउली', 'भटमासकोशा', 'भन्टा डल्लो', 'भन्टा लाम्चो', 'भिण्डी', 'भुर्इ कटहर', 'भेडे खु्र्सानी', 'मकै बोडी', 'मटरकोशा', 'माछा ताजा', 'मूला रातो', 'मूला सेतो(लोकल)', 'मेथीको साग', 'मेवा(नेपाली)', 'मेवा(भारतीय)', 'मौसम', 'रातो बन्दा', 'रायो साग', 'रुख कटहर', 'लप्सी', 'लसुन सुकेको चाइनिज', 'लसुन सुकेको नेपाली', 'लसुन हरियो', 'लीच्ची(भारतीय)', 'लीच्ची(लोकल)', 'लौका', 'सखरखण्ड', 'सजिवन', 'सुकेको प्याज चाइनिज', 'सुन्तला(नेपाली)', 'सुन्तला(भारतीय)', 'सेतो मूला(हाइब्रीड)', 'सेलरी', 'सौफको साग', 'स्कूस', 'स्थानीय काउली(ज्यापु)', 'स्याउ(झोले)', 'स्याउ(फूजी)', 'हरियो धनिया', 'हरियो फर्सी(डल्लो)'])"
      ]
     },
     "execution_count": 9,
     "metadata": {},
     "output_type": "execute_result"
    }
   ],
   "source": [
    "# List of vegetables\n",
    "Key_vegetables = df.groupby(['Vegetable']).groups.keys()\n",
    "Key_vegetables"
   ]
  },
  {
   "cell_type": "code",
   "execution_count": 10,
   "metadata": {},
   "outputs": [
    {
     "data": {
      "text/html": [
       "<div>\n",
       "<style scoped>\n",
       "    .dataframe tbody tr th:only-of-type {\n",
       "        vertical-align: middle;\n",
       "    }\n",
       "\n",
       "    .dataframe tbody tr th {\n",
       "        vertical-align: top;\n",
       "    }\n",
       "\n",
       "    .dataframe thead th {\n",
       "        text-align: right;\n",
       "    }\n",
       "</style>\n",
       "<table border=\"1\" class=\"dataframe\">\n",
       "  <thead>\n",
       "    <tr style=\"text-align: right;\">\n",
       "      <th></th>\n",
       "      <th>low_price</th>\n",
       "      <th>high_price</th>\n",
       "      <th>average</th>\n",
       "      <th>year</th>\n",
       "      <th>month</th>\n",
       "    </tr>\n",
       "  </thead>\n",
       "  <tbody>\n",
       "    <tr>\n",
       "      <th>count</th>\n",
       "      <td>99302.000000</td>\n",
       "      <td>99302.000000</td>\n",
       "      <td>99302.000000</td>\n",
       "      <td>99302.000000</td>\n",
       "      <td>99302.000000</td>\n",
       "    </tr>\n",
       "    <tr>\n",
       "      <th>mean</th>\n",
       "      <td>102.130984</td>\n",
       "      <td>111.899368</td>\n",
       "      <td>107.094751</td>\n",
       "      <td>2018.681346</td>\n",
       "      <td>6.584943</td>\n",
       "    </tr>\n",
       "    <tr>\n",
       "      <th>std</th>\n",
       "      <td>79.376194</td>\n",
       "      <td>82.277694</td>\n",
       "      <td>80.746183</td>\n",
       "      <td>0.608148</td>\n",
       "      <td>3.487649</td>\n",
       "    </tr>\n",
       "    <tr>\n",
       "      <th>min</th>\n",
       "      <td>1.000000</td>\n",
       "      <td>10.000000</td>\n",
       "      <td>9.000000</td>\n",
       "      <td>2018.000000</td>\n",
       "      <td>1.000000</td>\n",
       "    </tr>\n",
       "    <tr>\n",
       "      <th>25%</th>\n",
       "      <td>50.000000</td>\n",
       "      <td>60.000000</td>\n",
       "      <td>55.000000</td>\n",
       "      <td>2018.000000</td>\n",
       "      <td>4.000000</td>\n",
       "    </tr>\n",
       "    <tr>\n",
       "      <th>50%</th>\n",
       "      <td>80.000000</td>\n",
       "      <td>90.000000</td>\n",
       "      <td>85.000000</td>\n",
       "      <td>2019.000000</td>\n",
       "      <td>7.000000</td>\n",
       "    </tr>\n",
       "    <tr>\n",
       "      <th>75%</th>\n",
       "      <td>130.000000</td>\n",
       "      <td>140.000000</td>\n",
       "      <td>135.000000</td>\n",
       "      <td>2019.000000</td>\n",
       "      <td>10.000000</td>\n",
       "    </tr>\n",
       "    <tr>\n",
       "      <th>max</th>\n",
       "      <td>1600.000000</td>\n",
       "      <td>1650.000000</td>\n",
       "      <td>1625.000000</td>\n",
       "      <td>2020.000000</td>\n",
       "      <td>12.000000</td>\n",
       "    </tr>\n",
       "  </tbody>\n",
       "</table>\n",
       "</div>"
      ],
      "text/plain": [
       "          low_price    high_price       average          year         month\n",
       "count  99302.000000  99302.000000  99302.000000  99302.000000  99302.000000\n",
       "mean     102.130984    111.899368    107.094751   2018.681346      6.584943\n",
       "std       79.376194     82.277694     80.746183      0.608148      3.487649\n",
       "min        1.000000     10.000000      9.000000   2018.000000      1.000000\n",
       "25%       50.000000     60.000000     55.000000   2018.000000      4.000000\n",
       "50%       80.000000     90.000000     85.000000   2019.000000      7.000000\n",
       "75%      130.000000    140.000000    135.000000   2019.000000     10.000000\n",
       "max     1600.000000   1650.000000   1625.000000   2020.000000     12.000000"
      ]
     },
     "execution_count": 10,
     "metadata": {},
     "output_type": "execute_result"
    }
   ],
   "source": [
    "df.describe()"
   ]
  },
  {
   "cell_type": "code",
   "execution_count": 11,
   "metadata": {},
   "outputs": [
    {
     "data": {
      "text/plain": [
       "केरा                1436\n",
       "मूला सेतो(लोकल)     1436\n",
       "भुर्इ कटहर          1436\n",
       "खु्र्सानी सुकेको    1436\n",
       "काउली स्थानिय       1436\n",
       "                    ... \n",
       "अम्बा                 44\n",
       "सजिवन                 32\n",
       "अंगुर(कालो)           32\n",
       "लीच्ची(भारतीय)        28\n",
       "परवर(तराई)            16\n",
       "Name: Vegetable, Length: 120, dtype: int64"
      ]
     },
     "execution_count": 11,
     "metadata": {},
     "output_type": "execute_result"
    }
   ],
   "source": [
    "vege = df['Vegetable'].value_counts()\n",
    "vege"
   ]
  },
  {
   "cell_type": "code",
   "execution_count": 12,
   "metadata": {},
   "outputs": [
    {
     "data": {
      "text/plain": [
       "kg     96430\n",
       "psc     1436\n",
       "doz     1436\n",
       "Name: Unit, dtype: int64"
      ]
     },
     "execution_count": 12,
     "metadata": {},
     "output_type": "execute_result"
    }
   ],
   "source": [
    "df['Unit'].value_counts()"
   ]
  },
  {
   "cell_type": "markdown",
   "metadata": {},
   "source": [
    "##### Comparison to see the price of vegetable in 2018, 2019 an 2020 grouped by month for moxium pri ce per month"
   ]
  },
  {
   "cell_type": "code",
   "execution_count": 18,
   "metadata": {},
   "outputs": [
    {
     "data": {
      "text/html": [
       "<div>\n",
       "<style scoped>\n",
       "    .dataframe tbody tr th:only-of-type {\n",
       "        vertical-align: middle;\n",
       "    }\n",
       "\n",
       "    .dataframe tbody tr th {\n",
       "        vertical-align: top;\n",
       "    }\n",
       "\n",
       "    .dataframe thead th {\n",
       "        text-align: right;\n",
       "    }\n",
       "</style>\n",
       "<table border=\"1\" class=\"dataframe\">\n",
       "  <thead>\n",
       "    <tr style=\"text-align: right;\">\n",
       "      <th></th>\n",
       "      <th>month</th>\n",
       "      <th>average</th>\n",
       "    </tr>\n",
       "  </thead>\n",
       "  <tbody>\n",
       "    <tr>\n",
       "      <th>0</th>\n",
       "      <td>1</td>\n",
       "      <td>105.999573</td>\n",
       "    </tr>\n",
       "    <tr>\n",
       "      <th>1</th>\n",
       "      <td>2</td>\n",
       "      <td>95.265785</td>\n",
       "    </tr>\n",
       "    <tr>\n",
       "      <th>2</th>\n",
       "      <td>3</td>\n",
       "      <td>90.068067</td>\n",
       "    </tr>\n",
       "    <tr>\n",
       "      <th>3</th>\n",
       "      <td>4</td>\n",
       "      <td>98.449060</td>\n",
       "    </tr>\n",
       "    <tr>\n",
       "      <th>4</th>\n",
       "      <td>5</td>\n",
       "      <td>99.375374</td>\n",
       "    </tr>\n",
       "    <tr>\n",
       "      <th>5</th>\n",
       "      <td>6</td>\n",
       "      <td>105.817012</td>\n",
       "    </tr>\n",
       "    <tr>\n",
       "      <th>6</th>\n",
       "      <td>7</td>\n",
       "      <td>114.422013</td>\n",
       "    </tr>\n",
       "    <tr>\n",
       "      <th>7</th>\n",
       "      <td>8</td>\n",
       "      <td>118.540048</td>\n",
       "    </tr>\n",
       "    <tr>\n",
       "      <th>8</th>\n",
       "      <td>9</td>\n",
       "      <td>117.756936</td>\n",
       "    </tr>\n",
       "    <tr>\n",
       "      <th>9</th>\n",
       "      <td>10</td>\n",
       "      <td>122.420048</td>\n",
       "    </tr>\n",
       "    <tr>\n",
       "      <th>10</th>\n",
       "      <td>11</td>\n",
       "      <td>108.452747</td>\n",
       "    </tr>\n",
       "    <tr>\n",
       "      <th>11</th>\n",
       "      <td>12</td>\n",
       "      <td>106.136011</td>\n",
       "    </tr>\n",
       "  </tbody>\n",
       "</table>\n",
       "</div>"
      ],
      "text/plain": [
       "    month     average\n",
       "0       1  105.999573\n",
       "1       2   95.265785\n",
       "2       3   90.068067\n",
       "3       4   98.449060\n",
       "4       5   99.375374\n",
       "5       6  105.817012\n",
       "6       7  114.422013\n",
       "7       8  118.540048\n",
       "8       9  117.756936\n",
       "9      10  122.420048\n",
       "10     11  108.452747\n",
       "11     12  106.136011"
      ]
     },
     "execution_count": 18,
     "metadata": {},
     "output_type": "execute_result"
    }
   ],
   "source": [
    "# Which month  vegetable price is max and min\n",
    "veg_grp_month = df.groupby(by=['month'], as_index=False)[['Vegetable','average']].mean()\n",
    "veg_grp_month.sort_values(by='month', ascending=True)\n",
    "veg_grp_month"
   ]
  },
  {
   "cell_type": "markdown",
   "metadata": {},
   "source": [
    "###### The above table showed the Maxium price of vegetable was during July, Aug and September, "
   ]
  },
  {
   "cell_type": "code",
   "execution_count": 14,
   "metadata": {},
   "outputs": [
    {
     "data": {
      "text/plain": [
       "<seaborn.axisgrid.FacetGrid at 0x7fe123a97160>"
      ]
     },
     "execution_count": 14,
     "metadata": {},
     "output_type": "execute_result"
    },
    {
     "data": {
      "text/plain": [
       "<Figure size 1440x432 with 0 Axes>"
      ]
     },
     "metadata": {},
     "output_type": "display_data"
    },
    {
     "data": {
      "image/png": "[encoded data removed]",
      "text/plain": [
       "<Figure size 637.375x576 with 1 Axes>"
      ]
     },
     "metadata": {
      "needs_background": "light"
     },
     "output_type": "display_data"
    }
   ],
   "source": [
    "veg_price_month_year = df.groupby(by=['month','year'], as_index=False)[['Vegetable','average']].max()\n",
    "veg_price_month_year\n",
    "fig = plt.figure(figsize = (20,6))\n",
    "\n",
    "ax = sns.catplot(x=\"month\", y=\"average\", hue=\"year\", data=veg_price_month_year,\n",
    "                height=8,kind=\"bar\", palette=\"muted\")\n",
    "\n",
    "ax.set_ylabels(\"Average Price\")\n",
    "ax.set_xlabels(\"Price comparison Month-Year\")\n"
   ]
  },
  {
   "cell_type": "markdown",
   "metadata": {},
   "source": [
    "###### Above Diagram max vegetable price: \n",
    "    for 2018: showed maxium price during April that was above 1600 followed by March between 1500-1600 and \n",
    "        vegetable price droped during july and october, november december\n",
    "    for 2019: showed that peak price for vegetables was during october about RS. 900 and \n",
    "        minium priced was during Jan and Feb\n",
    "    for 2020: we had only 2 months data but the price for Jan and Feb are higher than previous year.\n",
    "It is quite difficult to predict the priced for upcoming month through this plot"
   ]
  },
  {
   "cell_type": "markdown",
   "metadata": {},
   "source": [
    "##### Comparison to see the price of vegetable in 2018, 2019 an 2020 grouped by month for mean price pre month"
   ]
  },
  {
   "cell_type": "code",
   "execution_count": 17,
   "metadata": {},
   "outputs": [
    {
     "data": {
      "text/plain": [
       "<seaborn.axisgrid.FacetGrid at 0x7fe123388438>"
      ]
     },
     "execution_count": 17,
     "metadata": {},
     "output_type": "execute_result"
    },
    {
     "data": {
      "text/plain": [
       "<Figure size 1440x432 with 0 Axes>"
      ]
     },
     "metadata": {},
     "output_type": "display_data"
    },
    {
     "data": {
      "image/png": "[encoded data removed]",
      "text/plain": [
       "<Figure size 637.375x576 with 1 Axes>"
      ]
     },
     "metadata": {
      "needs_background": "light"
     },
     "output_type": "display_data"
    }
   ],
   "source": [
    "veg_price_month_year = df.groupby(by=['month','year'], as_index=False)[['Vegetable','average']].mean()\n",
    "veg_price_month_year\n",
    "fig = plt.figure(figsize = (20,6))\n",
    "\n",
    "ax = sns.catplot(x=\"month\", y=\"average\", hue=\"year\", data=veg_price_month_year,\n",
    "                height=8,kind=\"bar\", palette=\"muted\")\n",
    "\n",
    "ax.set_ylabels(\"Average Price\")\n",
    "ax.set_xlabels(\"Price comparison Month-Year\")\n"
   ]
  },
  {
   "cell_type": "markdown",
   "metadata": {},
   "source": [
    "###### Above Diagram mean vegetable price: \n",
    "    for 2018: showed maxium price during April that was during Aug and Sept\n",
    "    for 2019: showed that peak price for vegetables was during october that is during festive season\n",
    "    for 2020: we had only 2 months data but the price for Jan and Feb are higher than previous year.\n",
    "It is quite difficult to predict the priced for upcoming month through this plot"
   ]
  },
  {
   "cell_type": "markdown",
   "metadata": {},
   "source": [
    "##### Bar diagram showing vegetables group by month"
   ]
  },
  {
   "cell_type": "code",
   "execution_count": 19,
   "metadata": {},
   "outputs": [
    {
     "data": {
      "text/plain": [
       "[Text(0, 0, '1'),\n",
       " Text(0, 0, '2'),\n",
       " Text(0, 0, '3'),\n",
       " Text(0, 0, '4'),\n",
       " Text(0, 0, '5'),\n",
       " Text(0, 0, '6'),\n",
       " Text(0, 0, '7'),\n",
       " Text(0, 0, '8'),\n",
       " Text(0, 0, '9'),\n",
       " Text(0, 0, '10'),\n",
       " Text(0, 0, '11'),\n",
       " Text(0, 0, '12')]"
      ]
     },
     "execution_count": 19,
     "metadata": {},
     "output_type": "execute_result"
    },
    {
     "data": {
      "image/png": "[encoded data removed]",
      "text/plain": [
       "<Figure size 864x432 with 1 Axes>"
      ]
     },
     "metadata": {
      "needs_background": "light"
     },
     "output_type": "display_data"
    }
   ],
   "source": [
    "avg_data = veg_grp_month\n",
    "fig = plt.figure(figsize = (12,6))\n",
    "ax = sns.barplot(x='month', y='average', data = avg_data)\n",
    "ax.set_title('Bar diagram showing mean average price - month')\n",
    "ax.set_xticklabels(ax.get_xticklabels(),rotation=60)"
   ]
  },
  {
   "cell_type": "markdown",
   "metadata": {},
   "source": [
    "###### Simple comparison shoed that price might increase during festive season "
   ]
  },
  {
   "cell_type": "code",
   "execution_count": 20,
   "metadata": {},
   "outputs": [],
   "source": [
    "translator = Translator()\n",
    "\n",
    "def convert_name(val):\n",
    "    result = []\n",
    "    for v in val:\n",
    "        b = translator.translate(v).text\n",
    "        result.append(b)\n",
    "\n",
    "    return result"
   ]
  },
  {
   "cell_type": "code",
   "execution_count": 24,
   "metadata": {},
   "outputs": [],
   "source": [
    "veg_grp_name_month_all = df.groupby(by=['Vegetable'], as_index=False)[['low_price','high_price', 'average']].max()\n",
    "\n",
    "veg_grp_name_month_avg = df.groupby(by=['Vegetable'], as_index=False)[['average']].mean().reset_index()\n",
    "#splitting data to 3 half\n",
    "total = len(veg_grp_name_month_all)\n",
    "ratio = total/3\n",
    "veg_grp_1 = veg_grp_name_month_avg[:40]\n",
    "\n",
    "veg_grp_2 = veg_grp_name_month_avg[40:40+40]\n",
    "\n",
    "veg_grp_3 = veg_grp_name_month_avg[40+40:]\n",
    "\n",
    "# #translation\n",
    "veg_grp_1['Vegetable_trans']=convert_name(veg_grp_1['Vegetable'].tolist())"
   ]
  },
  {
   "cell_type": "code",
   "execution_count": 29,
   "metadata": {},
   "outputs": [
    {
     "data": {
      "text/plain": [
       "[Text(0, 0, 'Grapes (black)'),\n",
       " Text(0, 0, 'Grapes (green)'),\n",
       " Text(0, 0, 'ginger'),\n",
       " Text(0, 0, 'Pomegranate'),\n",
       " Text(0, 0, 'AMBA'),\n",
       " Text(0, 0, 'Aampa (dasahari)'),\n",
       " Text(0, 0, 'aalu red'),\n",
       " Text(0, 0, 'aalu white'),\n",
       " Text(0, 0, 'Mango (maladaha)'),\n",
       " Text(0, 0, 'Potatoes Red (India)'),\n",
       " Text(0, 0, 'Potatoes Red (prop)'),\n",
       " Text(0, 0, 'tamarind'),\n",
       " Text(0, 0, 'Cowley tarari'),\n",
       " Text(0, 0, 'Cowley local'),\n",
       " Text(0, 0, 'Kakko (Local)'),\n",
       " Text(0, 0, 'Kakko (hybrid)'),\n",
       " Text(0, 0, 'lemon'),\n",
       " Text(0, 0, 'asparagus'),\n",
       " Text(0, 0, 'banana'),\n",
       " Text(0, 0, 'koiralo'),\n",
       " Text(0, 0, 'Green peppers (Savina)'),\n",
       " Text(0, 0, 'Green peppers (bullet)'),\n",
       " Text(0, 0, 'Green peppers (mache)'),\n",
       " Text(0, 0, 'khursani dried'),\n",
       " Text(0, 0, 'khursani green'),\n",
       " Text(0, 0, 'Carrots (valley)'),\n",
       " Text(0, 0, 'Carrots (Local)'),\n",
       " Text(0, 0, 'gante radish'),\n",
       " Text(0, 0, 'gunduka'),\n",
       " Text(0, 0, 'Large tomatoes (Nepal)'),\n",
       " Text(0, 0, 'small tomatoes'),\n",
       " Text(0, 0, 'Small tomatoes (tunnel)'),\n",
       " Text(0, 0, 'Small tomatoes (valley)'),\n",
       " Text(0, 0, 'Small tomatoes (India)'),\n",
       " Text(0, 0, 'gyatha cabbage'),\n",
       " Text(0, 0, 'Butter beans (kidney beans)'),\n",
       " Text(0, 0, 'Butter beans (Local)'),\n",
       " Text(0, 0, 'Butter beans (hybrid)'),\n",
       " Text(0, 0, 'ghiraula'),\n",
       " Text(0, 0, 'Cmsurko greens')]"
      ]
     },
     "execution_count": 29,
     "metadata": {},
     "output_type": "execute_result"
    },
    {
     "data": {
      "image/png": "[encoded data removed]",
      "text/plain": [
       "<Figure size 1440x432 with 1 Axes>"
      ]
     },
     "metadata": {
      "needs_background": "light"
     },
     "output_type": "display_data"
    }
   ],
   "source": [
    "#Bar diagram showing first 40 vegetables avegrage price\n",
    "avg_data = veg_grp_1.reset_index()\n",
    "fig = plt.figure(figsize = (20,6))\n",
    "ax = sns.barplot(x='Vegetable_trans', y='average', data = avg_data)\n",
    "ax.set_title('Bar diagram showing vegetables first 40 ')\n",
    "ax.set_xticklabels(ax.get_xticklabels(),rotation=60)\n"
   ]
  },
  {
   "cell_type": "markdown",
   "metadata": {},
   "source": [
    "###### Considering the first 40 vegetables max pice was for asparagus  atround 300 followed by lemon 275 (in average)"
   ]
  },
  {
   "cell_type": "code",
   "execution_count": 25,
   "metadata": {},
   "outputs": [],
   "source": [
    "veg_grp_2['Vegetable_trans']=convert_name(veg_grp_2['Vegetable'].tolist())"
   ]
  },
  {
   "cell_type": "code",
   "execution_count": 30,
   "metadata": {},
   "outputs": [
    {
     "data": {
      "text/plain": [
       "[Text(0, 0, 'cicindo'),\n",
       " Text(0, 0, 'cukundara'),\n",
       " Text(0, 0, 'Mushroom (maid)'),\n",
       " Text(0, 0, 'Mushroom (Jolly)'),\n",
       " Text(0, 0, 'dried cured'),\n",
       " Text(0, 0, 'cured green'),\n",
       " Text(0, 0, 'lettuce'),\n",
       " Text(0, 0, 'jhiguni'),\n",
       " Text(0, 0, 'Tate Simi'),\n",
       " Text(0, 0, 'Large tomatoes (India)'),\n",
       " Text(0, 0, 'Melon (Pate)'),\n",
       " Text(0, 0, 'Leeks (green)'),\n",
       " Text(0, 0, 'yam'),\n",
       " Text(0, 0, 'Fresh fish (rod)'),\n",
       " Text(0, 0, 'Fresh fish (bacuva)'),\n",
       " Text(0, 0, 'Fresh fish (mamugari)'),\n",
       " Text(0, 0, 'Fresh fish (keep calm)'),\n",
       " Text(0, 0, 'copper'),\n",
       " Text(0, 0, 'bitter gourd'),\n",
       " Text(0, 0, 'Tofu'),\n",
       " Text(0, 0, 'mustard greens'),\n",
       " Text(0, 0, 'Pear (Chinese)'),\n",
       " Text(0, 0, 'Pear (Local)'),\n",
       " Text(0, 0, 'Neuro'),\n",
       " Text(0, 0, 'Parver (valley)'),\n",
       " Text(0, 0, 'Prvr (Local)'),\n",
       " Text(0, 0, 'Parsley'),\n",
       " Text(0, 0, 'Palugo greens'),\n",
       " Text(0, 0, 'randia uliginosa'),\n",
       " Text(0, 0, 'Peppermint'),\n",
       " Text(0, 0, 'Dried onion Indian'),\n",
       " Text(0, 0, 'green onions'),\n",
       " Text(0, 0, 'ripe Pumpkin'),\n",
       " Text(0, 0, 'Pumpkin green (elongated)'),\n",
       " Text(0, 0, 'Bkula'),\n",
       " Text(0, 0, 'Cabbage (valley)'),\n",
       " Text(0, 0, 'Cabbage (coconut)'),\n",
       " Text(0, 0, 'Cabbage (Local)'),\n",
       " Text(0, 0, 'Brela'),\n",
       " Text(0, 0, 'Body (trunk)')]"
      ]
     },
     "execution_count": 30,
     "metadata": {},
     "output_type": "execute_result"
    },
    {
     "data": {
      "image/png": "[encoded data removed]",
      "text/plain": [
       "<Figure size 1440x432 with 1 Axes>"
      ]
     },
     "metadata": {
      "needs_background": "light"
     },
     "output_type": "display_data"
    }
   ],
   "source": [
    "# Bar diagram showing next 40 vegetables average price\n",
    "avg_data_below = veg_grp_2.reset_index()\n",
    "fig = plt.figure(figsize = (20,6))\n",
    "\n",
    "ax=sns.barplot(x='Vegetable_trans', y='average', data = avg_data_below)\n",
    "ax.set_title('Bar diagram showing vegetables 40-80 ')\n",
    "ax.set_xticklabels(ax.get_xticklabels(),rotation=60)\n"
   ]
  },
  {
   "cell_type": "markdown",
   "metadata": {},
   "source": [
    "###### Above bar showd that mushroom had maxium price above 400"
   ]
  },
  {
   "cell_type": "code",
   "execution_count": 27,
   "metadata": {},
   "outputs": [],
   "source": [
    "veg_grp_3['Vegetable_trans']=convert_name(veg_grp_3['Vegetable'].tolist())"
   ]
  },
  {
   "cell_type": "code",
   "execution_count": 31,
   "metadata": {},
   "outputs": [
    {
     "data": {
      "text/plain": [
       "[Text(0, 0, 'broccoli'),\n",
       " Text(0, 0, 'bhatamasakosa'),\n",
       " Text(0, 0, 'Aubergine ball'),\n",
       " Text(0, 0, 'elongated eggplant'),\n",
       " Text(0, 0, 'Okra'),\n",
       " Text(0, 0, 'bhuri tangerine'),\n",
       " Text(0, 0, 'bhede khursani'),\n",
       " Text(0, 0, 'maize body'),\n",
       " Text(0, 0, 'Mtrkosha'),\n",
       " Text(0, 0, 'fresh fish'),\n",
       " Text(0, 0, 'red radish'),\n",
       " Text(0, 0, 'White radish (Local)'),\n",
       " Text(0, 0, 'fenugreek greens'),\n",
       " Text(0, 0, 'Nuts (Nepal)'),\n",
       " Text(0, 0, 'Nuts (India)'),\n",
       " Text(0, 0, 'weather'),\n",
       " Text(0, 0, 'red cabbage'),\n",
       " Text(0, 0, 'mustard greens'),\n",
       " Text(0, 0, 'tangerine tree'),\n",
       " Text(0, 0, 'jelly'),\n",
       " Text(0, 0, 'Chinese dried garlic'),\n",
       " Text(0, 0, 'Dried garlic Nepal'),\n",
       " Text(0, 0, 'garlic green'),\n",
       " Text(0, 0, 'Lichchi (India)'),\n",
       " Text(0, 0, 'Lichchi (Local)'),\n",
       " Text(0, 0, 'Lorca'),\n",
       " Text(0, 0, 'sakharakhanda'),\n",
       " Text(0, 0, 'Sajivan'),\n",
       " Text(0, 0, 'Chinese dried onion'),\n",
       " Text(0, 0, 'Orange (Nepal)'),\n",
       " Text(0, 0, 'Orange (India)'),\n",
       " Text(0, 0, 'White radish (hybrid)'),\n",
       " Text(0, 0, 'Salary'),\n",
       " Text(0, 0, 'Sufko greens'),\n",
       " Text(0, 0, 'Skus'),\n",
       " Text(0, 0, 'Local Cowley (Sunauli)'),\n",
       " Text(0, 0, 'Apple (Tote)'),\n",
       " Text(0, 0, 'Apples (Fuji)'),\n",
       " Text(0, 0, 'green coriander'),\n",
       " Text(0, 0, 'Green Pumpkin (ball)')]"
      ]
     },
     "execution_count": 31,
     "metadata": {},
     "output_type": "execute_result"
    },
    {
     "data": {
      "image/png": "[encoded data removed]",
      "text/plain": [
       "<Figure size 1440x432 with 1 Axes>"
      ]
     },
     "metadata": {
      "needs_background": "light"
     },
     "output_type": "display_data"
    }
   ],
   "source": [
    "#Bar diagram showing average price for remaining vegetables\n",
    "avg_data_below = veg_grp_3.reset_index()\n",
    "fig = plt.figure(figsize = (20,6))\n",
    "\n",
    "ax=sns.barplot(x='Vegetable_trans', y='average', data = avg_data_below)\n",
    "ax.set_title('Bar diagram showing vegetables 80-120')\n",
    "ax.set_xticklabels(ax.get_xticklabels(),rotation=60)"
   ]
  },
  {
   "cell_type": "markdown",
   "metadata": {},
   "source": [
    "###### Above bar showed Apple(Fuji) to have high price around 340\n",
    "COmparing 3 bar diagrams Mushroom is to be most expensive vegetable and apple which is a fruit "
   ]
  },
  {
   "cell_type": "markdown",
   "metadata": {},
   "source": [
    "##### Now Simply analysing single vegetable \"Mushroom\""
   ]
  },
  {
   "cell_type": "code",
   "execution_count": 32,
   "metadata": {},
   "outputs": [
    {
     "data": {
      "text/html": [
       "<div>\n",
       "<style scoped>\n",
       "    .dataframe tbody tr th:only-of-type {\n",
       "        vertical-align: middle;\n",
       "    }\n",
       "\n",
       "    .dataframe tbody tr th {\n",
       "        vertical-align: top;\n",
       "    }\n",
       "\n",
       "    .dataframe thead th {\n",
       "        text-align: right;\n",
       "    }\n",
       "</style>\n",
       "<table border=\"1\" class=\"dataframe\">\n",
       "  <thead>\n",
       "    <tr style=\"text-align: right;\">\n",
       "      <th></th>\n",
       "      <th>index</th>\n",
       "      <th>Vegetable</th>\n",
       "      <th>average</th>\n",
       "      <th>Vegetable_trans</th>\n",
       "    </tr>\n",
       "  </thead>\n",
       "  <tbody>\n",
       "    <tr>\n",
       "      <th>42</th>\n",
       "      <td>42</td>\n",
       "      <td>च्याउ(कन्य)</td>\n",
       "      <td>166.849965</td>\n",
       "      <td>Mushroom (maid)</td>\n",
       "    </tr>\n",
       "  </tbody>\n",
       "</table>\n",
       "</div>"
      ],
      "text/plain": [
       "    index    Vegetable     average  Vegetable_trans\n",
       "42     42  च्याउ(कन्य)  166.849965  Mushroom (maid)"
      ]
     },
     "execution_count": 32,
     "metadata": {},
     "output_type": "execute_result"
    }
   ],
   "source": [
    "max_price_by_name = df.groupby(by=['Vegetable','month','year'], as_index=False)[['low_price','high_price', 'average']].max()\n",
    "\n",
    "exp_veg = veg_grp_2[veg_grp_2['Vegetable_trans'] =='Mushroom (maid)']\n",
    "exp_veg"
   ]
  },
  {
   "cell_type": "code",
   "execution_count": 33,
   "metadata": {},
   "outputs": [
    {
     "data": {
      "text/html": [
       "<div>\n",
       "<style scoped>\n",
       "    .dataframe tbody tr th:only-of-type {\n",
       "        vertical-align: middle;\n",
       "    }\n",
       "\n",
       "    .dataframe tbody tr th {\n",
       "        vertical-align: top;\n",
       "    }\n",
       "\n",
       "    .dataframe thead th {\n",
       "        text-align: right;\n",
       "    }\n",
       "</style>\n",
       "<table border=\"1\" class=\"dataframe\">\n",
       "  <thead>\n",
       "    <tr style=\"text-align: right;\">\n",
       "      <th></th>\n",
       "      <th>Vegetable</th>\n",
       "      <th>month</th>\n",
       "      <th>year</th>\n",
       "      <th>low_price</th>\n",
       "      <th>high_price</th>\n",
       "      <th>average</th>\n",
       "      <th>Vegetable_trans</th>\n",
       "    </tr>\n",
       "  </thead>\n",
       "  <tbody>\n",
       "    <tr>\n",
       "      <th>648</th>\n",
       "      <td>च्याउ(कन्य)</td>\n",
       "      <td>1</td>\n",
       "      <td>2019</td>\n",
       "      <td>180</td>\n",
       "      <td>200</td>\n",
       "      <td>190</td>\n",
       "      <td>Mushroom (maid)</td>\n",
       "    </tr>\n",
       "    <tr>\n",
       "      <th>649</th>\n",
       "      <td>च्याउ(कन्य)</td>\n",
       "      <td>1</td>\n",
       "      <td>2020</td>\n",
       "      <td>170</td>\n",
       "      <td>180</td>\n",
       "      <td>175</td>\n",
       "      <td>Mushroom (maid)</td>\n",
       "    </tr>\n",
       "    <tr>\n",
       "      <th>650</th>\n",
       "      <td>च्याउ(कन्य)</td>\n",
       "      <td>2</td>\n",
       "      <td>2018</td>\n",
       "      <td>110</td>\n",
       "      <td>120</td>\n",
       "      <td>115</td>\n",
       "      <td>Mushroom (maid)</td>\n",
       "    </tr>\n",
       "    <tr>\n",
       "      <th>651</th>\n",
       "      <td>च्याउ(कन्य)</td>\n",
       "      <td>2</td>\n",
       "      <td>2019</td>\n",
       "      <td>170</td>\n",
       "      <td>180</td>\n",
       "      <td>175</td>\n",
       "      <td>Mushroom (maid)</td>\n",
       "    </tr>\n",
       "    <tr>\n",
       "      <th>652</th>\n",
       "      <td>च्याउ(कन्य)</td>\n",
       "      <td>2</td>\n",
       "      <td>2020</td>\n",
       "      <td>120</td>\n",
       "      <td>130</td>\n",
       "      <td>125</td>\n",
       "      <td>Mushroom (maid)</td>\n",
       "    </tr>\n",
       "    <tr>\n",
       "      <th>653</th>\n",
       "      <td>च्याउ(कन्य)</td>\n",
       "      <td>3</td>\n",
       "      <td>2018</td>\n",
       "      <td>200</td>\n",
       "      <td>210</td>\n",
       "      <td>205</td>\n",
       "      <td>Mushroom (maid)</td>\n",
       "    </tr>\n",
       "    <tr>\n",
       "      <th>654</th>\n",
       "      <td>च्याउ(कन्य)</td>\n",
       "      <td>3</td>\n",
       "      <td>2019</td>\n",
       "      <td>150</td>\n",
       "      <td>160</td>\n",
       "      <td>155</td>\n",
       "      <td>Mushroom (maid)</td>\n",
       "    </tr>\n",
       "    <tr>\n",
       "      <th>655</th>\n",
       "      <td>च्याउ(कन्य)</td>\n",
       "      <td>4</td>\n",
       "      <td>2018</td>\n",
       "      <td>260</td>\n",
       "      <td>280</td>\n",
       "      <td>270</td>\n",
       "      <td>Mushroom (maid)</td>\n",
       "    </tr>\n",
       "    <tr>\n",
       "      <th>656</th>\n",
       "      <td>च्याउ(कन्य)</td>\n",
       "      <td>4</td>\n",
       "      <td>2019</td>\n",
       "      <td>240</td>\n",
       "      <td>250</td>\n",
       "      <td>245</td>\n",
       "      <td>Mushroom (maid)</td>\n",
       "    </tr>\n",
       "    <tr>\n",
       "      <th>657</th>\n",
       "      <td>च्याउ(कन्य)</td>\n",
       "      <td>5</td>\n",
       "      <td>2018</td>\n",
       "      <td>240</td>\n",
       "      <td>250</td>\n",
       "      <td>245</td>\n",
       "      <td>Mushroom (maid)</td>\n",
       "    </tr>\n",
       "    <tr>\n",
       "      <th>658</th>\n",
       "      <td>च्याउ(कन्य)</td>\n",
       "      <td>5</td>\n",
       "      <td>2019</td>\n",
       "      <td>270</td>\n",
       "      <td>280</td>\n",
       "      <td>275</td>\n",
       "      <td>Mushroom (maid)</td>\n",
       "    </tr>\n",
       "    <tr>\n",
       "      <th>659</th>\n",
       "      <td>च्याउ(कन्य)</td>\n",
       "      <td>6</td>\n",
       "      <td>2018</td>\n",
       "      <td>260</td>\n",
       "      <td>280</td>\n",
       "      <td>270</td>\n",
       "      <td>Mushroom (maid)</td>\n",
       "    </tr>\n",
       "    <tr>\n",
       "      <th>660</th>\n",
       "      <td>च्याउ(कन्य)</td>\n",
       "      <td>6</td>\n",
       "      <td>2019</td>\n",
       "      <td>240</td>\n",
       "      <td>250</td>\n",
       "      <td>245</td>\n",
       "      <td>Mushroom (maid)</td>\n",
       "    </tr>\n",
       "    <tr>\n",
       "      <th>661</th>\n",
       "      <td>च्याउ(कन्य)</td>\n",
       "      <td>7</td>\n",
       "      <td>2018</td>\n",
       "      <td>220</td>\n",
       "      <td>230</td>\n",
       "      <td>225</td>\n",
       "      <td>Mushroom (maid)</td>\n",
       "    </tr>\n",
       "    <tr>\n",
       "      <th>662</th>\n",
       "      <td>च्याउ(कन्य)</td>\n",
       "      <td>7</td>\n",
       "      <td>2019</td>\n",
       "      <td>200</td>\n",
       "      <td>210</td>\n",
       "      <td>205</td>\n",
       "      <td>Mushroom (maid)</td>\n",
       "    </tr>\n",
       "    <tr>\n",
       "      <th>663</th>\n",
       "      <td>च्याउ(कन्य)</td>\n",
       "      <td>8</td>\n",
       "      <td>2018</td>\n",
       "      <td>250</td>\n",
       "      <td>290</td>\n",
       "      <td>255</td>\n",
       "      <td>Mushroom (maid)</td>\n",
       "    </tr>\n",
       "    <tr>\n",
       "      <th>664</th>\n",
       "      <td>च्याउ(कन्य)</td>\n",
       "      <td>8</td>\n",
       "      <td>2019</td>\n",
       "      <td>240</td>\n",
       "      <td>250</td>\n",
       "      <td>245</td>\n",
       "      <td>Mushroom (maid)</td>\n",
       "    </tr>\n",
       "    <tr>\n",
       "      <th>665</th>\n",
       "      <td>च्याउ(कन्य)</td>\n",
       "      <td>9</td>\n",
       "      <td>2018</td>\n",
       "      <td>300</td>\n",
       "      <td>320</td>\n",
       "      <td>310</td>\n",
       "      <td>Mushroom (maid)</td>\n",
       "    </tr>\n",
       "    <tr>\n",
       "      <th>666</th>\n",
       "      <td>च्याउ(कन्य)</td>\n",
       "      <td>9</td>\n",
       "      <td>2019</td>\n",
       "      <td>220</td>\n",
       "      <td>230</td>\n",
       "      <td>225</td>\n",
       "      <td>Mushroom (maid)</td>\n",
       "    </tr>\n",
       "    <tr>\n",
       "      <th>667</th>\n",
       "      <td>च्याउ(कन्य)</td>\n",
       "      <td>10</td>\n",
       "      <td>2018</td>\n",
       "      <td>200</td>\n",
       "      <td>220</td>\n",
       "      <td>210</td>\n",
       "      <td>Mushroom (maid)</td>\n",
       "    </tr>\n",
       "    <tr>\n",
       "      <th>668</th>\n",
       "      <td>च्याउ(कन्य)</td>\n",
       "      <td>10</td>\n",
       "      <td>2019</td>\n",
       "      <td>190</td>\n",
       "      <td>200</td>\n",
       "      <td>195</td>\n",
       "      <td>Mushroom (maid)</td>\n",
       "    </tr>\n",
       "    <tr>\n",
       "      <th>669</th>\n",
       "      <td>च्याउ(कन्य)</td>\n",
       "      <td>11</td>\n",
       "      <td>2018</td>\n",
       "      <td>150</td>\n",
       "      <td>160</td>\n",
       "      <td>155</td>\n",
       "      <td>Mushroom (maid)</td>\n",
       "    </tr>\n",
       "    <tr>\n",
       "      <th>670</th>\n",
       "      <td>च्याउ(कन्य)</td>\n",
       "      <td>11</td>\n",
       "      <td>2019</td>\n",
       "      <td>200</td>\n",
       "      <td>210</td>\n",
       "      <td>205</td>\n",
       "      <td>Mushroom (maid)</td>\n",
       "    </tr>\n",
       "    <tr>\n",
       "      <th>671</th>\n",
       "      <td>च्याउ(कन्य)</td>\n",
       "      <td>12</td>\n",
       "      <td>2018</td>\n",
       "      <td>250</td>\n",
       "      <td>260</td>\n",
       "      <td>255</td>\n",
       "      <td>Mushroom (maid)</td>\n",
       "    </tr>\n",
       "    <tr>\n",
       "      <th>672</th>\n",
       "      <td>च्याउ(कन्य)</td>\n",
       "      <td>12</td>\n",
       "      <td>2019</td>\n",
       "      <td>260</td>\n",
       "      <td>270</td>\n",
       "      <td>265</td>\n",
       "      <td>Mushroom (maid)</td>\n",
       "    </tr>\n",
       "  </tbody>\n",
       "</table>\n",
       "</div>"
      ],
      "text/plain": [
       "       Vegetable  month  year  low_price  high_price  average  Vegetable_trans\n",
       "648  च्याउ(कन्य)      1  2019        180         200      190  Mushroom (maid)\n",
       "649  च्याउ(कन्य)      1  2020        170         180      175  Mushroom (maid)\n",
       "650  च्याउ(कन्य)      2  2018        110         120      115  Mushroom (maid)\n",
       "651  च्याउ(कन्य)      2  2019        170         180      175  Mushroom (maid)\n",
       "652  च्याउ(कन्य)      2  2020        120         130      125  Mushroom (maid)\n",
       "653  च्याउ(कन्य)      3  2018        200         210      205  Mushroom (maid)\n",
       "654  च्याउ(कन्य)      3  2019        150         160      155  Mushroom (maid)\n",
       "655  च्याउ(कन्य)      4  2018        260         280      270  Mushroom (maid)\n",
       "656  च्याउ(कन्य)      4  2019        240         250      245  Mushroom (maid)\n",
       "657  च्याउ(कन्य)      5  2018        240         250      245  Mushroom (maid)\n",
       "658  च्याउ(कन्य)      5  2019        270         280      275  Mushroom (maid)\n",
       "659  च्याउ(कन्य)      6  2018        260         280      270  Mushroom (maid)\n",
       "660  च्याउ(कन्य)      6  2019        240         250      245  Mushroom (maid)\n",
       "661  च्याउ(कन्य)      7  2018        220         230      225  Mushroom (maid)\n",
       "662  च्याउ(कन्य)      7  2019        200         210      205  Mushroom (maid)\n",
       "663  च्याउ(कन्य)      8  2018        250         290      255  Mushroom (maid)\n",
       "664  च्याउ(कन्य)      8  2019        240         250      245  Mushroom (maid)\n",
       "665  च्याउ(कन्य)      9  2018        300         320      310  Mushroom (maid)\n",
       "666  च्याउ(कन्य)      9  2019        220         230      225  Mushroom (maid)\n",
       "667  च्याउ(कन्य)     10  2018        200         220      210  Mushroom (maid)\n",
       "668  च्याउ(कन्य)     10  2019        190         200      195  Mushroom (maid)\n",
       "669  च्याउ(कन्य)     11  2018        150         160      155  Mushroom (maid)\n",
       "670  च्याउ(कन्य)     11  2019        200         210      205  Mushroom (maid)\n",
       "671  च्याउ(कन्य)     12  2018        250         260      255  Mushroom (maid)\n",
       "672  च्याउ(कन्य)     12  2019        260         270      265  Mushroom (maid)"
      ]
     },
     "execution_count": 33,
     "metadata": {},
     "output_type": "execute_result"
    }
   ],
   "source": [
    "mushroom = max_price_by_name[max_price_by_name['Vegetable'] == 'च्याउ(कन्य)']\n",
    "mushroom['Vegetable_trans']=convert_name(mushroom['Vegetable'].tolist())\n",
    "mushroom"
   ]
  },
  {
   "cell_type": "code",
   "execution_count": 34,
   "metadata": {},
   "outputs": [
    {
     "data": {
      "text/plain": [
       "<seaborn.axisgrid.FacetGrid at 0x7fe120789be0>"
      ]
     },
     "execution_count": 34,
     "metadata": {},
     "output_type": "execute_result"
    },
    {
     "data": {
      "text/plain": [
       "<Figure size 1440x504 with 0 Axes>"
      ]
     },
     "metadata": {},
     "output_type": "display_data"
    },
    {
     "data": {
      "image/png": "[encoded data removed]",
      "text/plain": [
       "<Figure size 637.375x576 with 1 Axes>"
      ]
     },
     "metadata": {
      "needs_background": "light"
     },
     "output_type": "display_data"
    }
   ],
   "source": [
    "fig = plt.figure(figsize = (20,7))  #figsize\n",
    "ax = sns.catplot(x=\"month\", y=\"average\", hue=\"year\", data=mushroom,\n",
    "                height=8,kind=\"bar\", palette=\"muted\")\n",
    "ax.set_ylabels(\"Average Price\")\n",
    "ax.set_xlabels(\"Price comparison Month-Year\")"
   ]
  },
  {
   "cell_type": "markdown",
   "metadata": {},
   "source": [
    "###### From Analysis of mushroom:\n",
    "    In 2018 Mushroom had maxium price during September above 300, followed by April, May around 260 \n",
    "        and minimum price was during  Feb around 120\n",
    "    In 2019, Maxium price was during May around 265, followed by Dec around 260 and munimum price during March 155\n",
    "    In 2020, Price in Feb was less than that of Jan"
   ]
  },
  {
   "cell_type": "markdown",
   "metadata": {},
   "source": [
    "##### Apple(Fuji)"
   ]
  },
  {
   "cell_type": "code",
   "execution_count": 35,
   "metadata": {},
   "outputs": [
    {
     "data": {
      "text/html": [
       "<div>\n",
       "<style scoped>\n",
       "    .dataframe tbody tr th:only-of-type {\n",
       "        vertical-align: middle;\n",
       "    }\n",
       "\n",
       "    .dataframe tbody tr th {\n",
       "        vertical-align: top;\n",
       "    }\n",
       "\n",
       "    .dataframe thead th {\n",
       "        text-align: right;\n",
       "    }\n",
       "</style>\n",
       "<table border=\"1\" class=\"dataframe\">\n",
       "  <thead>\n",
       "    <tr style=\"text-align: right;\">\n",
       "      <th></th>\n",
       "      <th>index</th>\n",
       "      <th>Vegetable</th>\n",
       "      <th>average</th>\n",
       "      <th>Vegetable_trans</th>\n",
       "    </tr>\n",
       "  </thead>\n",
       "  <tbody>\n",
       "    <tr>\n",
       "      <th>117</th>\n",
       "      <td>117</td>\n",
       "      <td>स्याउ(फूजी)</td>\n",
       "      <td>333.477011</td>\n",
       "      <td>Apples (Fuji)</td>\n",
       "    </tr>\n",
       "  </tbody>\n",
       "</table>\n",
       "</div>"
      ],
      "text/plain": [
       "     index    Vegetable     average Vegetable_trans\n",
       "117    117  स्याउ(फूजी)  333.477011   Apples (Fuji)"
      ]
     },
     "execution_count": 35,
     "metadata": {},
     "output_type": "execute_result"
    }
   ],
   "source": [
    "apple_fuji = veg_grp_3[veg_grp_3['Vegetable_trans'] =='Apples (Fuji)']\n",
    "apple_fuji"
   ]
  },
  {
   "cell_type": "code",
   "execution_count": 36,
   "metadata": {},
   "outputs": [
    {
     "data": {
      "text/html": [
       "<div>\n",
       "<style scoped>\n",
       "    .dataframe tbody tr th:only-of-type {\n",
       "        vertical-align: middle;\n",
       "    }\n",
       "\n",
       "    .dataframe tbody tr th {\n",
       "        vertical-align: top;\n",
       "    }\n",
       "\n",
       "    .dataframe thead th {\n",
       "        text-align: right;\n",
       "    }\n",
       "</style>\n",
       "<table border=\"1\" class=\"dataframe\">\n",
       "  <thead>\n",
       "    <tr style=\"text-align: right;\">\n",
       "      <th></th>\n",
       "      <th>Vegetable</th>\n",
       "      <th>month</th>\n",
       "      <th>year</th>\n",
       "      <th>low_price</th>\n",
       "      <th>high_price</th>\n",
       "      <th>average</th>\n",
       "      <th>Vegetable_trans</th>\n",
       "    </tr>\n",
       "  </thead>\n",
       "  <tbody>\n",
       "    <tr>\n",
       "      <th>1858</th>\n",
       "      <td>स्याउ(फूजी)</td>\n",
       "      <td>5</td>\n",
       "      <td>2019</td>\n",
       "      <td>290</td>\n",
       "      <td>300</td>\n",
       "      <td>295</td>\n",
       "      <td>Apples (Fuji)</td>\n",
       "    </tr>\n",
       "    <tr>\n",
       "      <th>1859</th>\n",
       "      <td>स्याउ(फूजी)</td>\n",
       "      <td>6</td>\n",
       "      <td>2019</td>\n",
       "      <td>400</td>\n",
       "      <td>450</td>\n",
       "      <td>425</td>\n",
       "      <td>Apples (Fuji)</td>\n",
       "    </tr>\n",
       "    <tr>\n",
       "      <th>1860</th>\n",
       "      <td>स्याउ(फूजी)</td>\n",
       "      <td>7</td>\n",
       "      <td>2019</td>\n",
       "      <td>360</td>\n",
       "      <td>380</td>\n",
       "      <td>370</td>\n",
       "      <td>Apples (Fuji)</td>\n",
       "    </tr>\n",
       "    <tr>\n",
       "      <th>1861</th>\n",
       "      <td>स्याउ(फूजी)</td>\n",
       "      <td>8</td>\n",
       "      <td>2019</td>\n",
       "      <td>380</td>\n",
       "      <td>390</td>\n",
       "      <td>385</td>\n",
       "      <td>Apples (Fuji)</td>\n",
       "    </tr>\n",
       "  </tbody>\n",
       "</table>\n",
       "</div>"
      ],
      "text/plain": [
       "        Vegetable  month  year  low_price  high_price  average Vegetable_trans\n",
       "1858  स्याउ(फूजी)      5  2019        290         300      295   Apples (Fuji)\n",
       "1859  स्याउ(फूजी)      6  2019        400         450      425   Apples (Fuji)\n",
       "1860  स्याउ(फूजी)      7  2019        360         380      370   Apples (Fuji)\n",
       "1861  स्याउ(फूजी)      8  2019        380         390      385   Apples (Fuji)"
      ]
     },
     "execution_count": 36,
     "metadata": {},
     "output_type": "execute_result"
    }
   ],
   "source": [
    "apple = max_price_by_name[max_price_by_name['Vegetable'] == 'स्याउ(फूजी)']\n",
    "apple['Vegetable_trans']=convert_name(apple['Vegetable'].tolist())\n",
    "apple"
   ]
  },
  {
   "cell_type": "code",
   "execution_count": 37,
   "metadata": {},
   "outputs": [
    {
     "data": {
      "text/plain": [
       "<seaborn.axisgrid.FacetGrid at 0x7fe1205fa400>"
      ]
     },
     "execution_count": 37,
     "metadata": {},
     "output_type": "execute_result"
    },
    {
     "data": {
      "text/plain": [
       "<Figure size 720x288 with 0 Axes>"
      ]
     },
     "metadata": {},
     "output_type": "display_data"
    },
    {
     "data": {
      "image/png": "[encoded data removed]",
      "text/plain": [
       "<Figure size 493.375x432 with 1 Axes>"
      ]
     },
     "metadata": {
      "needs_background": "light"
     },
     "output_type": "display_data"
    }
   ],
   "source": [
    "fig = plt.figure(figsize = (10,4))  #figsize\n",
    "ax = sns.catplot(x=\"month\", y=\"average\", hue=\"year\", data=apple,\n",
    "                height=6,kind=\"bar\", palette=\"muted\")\n",
    "ax.set_ylabels(\"Average Price\")\n",
    "ax.set_xlabels(\"Price comparison Month-Year\")"
   ]
  },
  {
   "cell_type": "markdown",
   "metadata": {},
   "source": [
    "###### We only have record of 2019 for Apple(Fuji) which showed that it depends on season \n",
    "    and is available during May- Aug and in June its price might increase"
   ]
  },
  {
   "cell_type": "markdown",
   "metadata": {},
   "source": [
    "#### Lemon"
   ]
  },
  {
   "cell_type": "code",
   "execution_count": 43,
   "metadata": {},
   "outputs": [],
   "source": [
    "#Chk vegetables lemon  \n",
    "lemon = df[df[\"Vegetable\"] == 'कागती'][['Vegetable','Unit','average', 'month','year','priceType']]\n",
    "lemon_w = lemon[lemon[\"priceType\"] == 'W'][['Vegetable','average','month', 'year']]\n",
    "lemon_R = lemon[lemon[\"priceType\"] == 'R'][['Vegetable','average', 'month','year']]"
   ]
  },
  {
   "cell_type": "code",
   "execution_count": 44,
   "metadata": {},
   "outputs": [
    {
     "data": {
      "image/png": "[encoded data removed]",
      "text/plain": [
       "<Figure size 1440x504 with 1 Axes>"
      ]
     },
     "metadata": {
      "needs_background": "light"
     },
     "output_type": "display_data"
    }
   ],
   "source": [
    "a=lemon_w.groupby('month')\n",
    "fig = plt.figure(figsize = (20,7))  #figsize\n",
    "x = lemon_w['month']\n",
    "x_r = lemon_R['month']\n",
    "\n",
    "y_w = lemon_w['average']\n",
    "y_R = lemon_R['average']\n",
    "plt.plot(x, y_w, color = 'b', label = 'Wolesale' )\n",
    "plt.plot(x_r, y_R, color = 'r', label = 'Retail' )\n",
    "\n",
    "plt.legend()  # add legend\n",
    "plt.xticks(rotation='vertical')\n",
    "\n",
    "plt.xlabel('x')\n",
    "plt.ylabel('f(x)')\n",
    "plt.title('2018-2020 Wholesale-Retail Price for Lemon')\n",
    "plt.show()"
   ]
  },
  {
   "cell_type": "markdown",
   "metadata": {},
   "source": [
    "###### Above Diagram is price of Lemon based on wholesale and retail price \n",
    "    which shows that retail price increases by around 60-70% based on wholesale price"
   ]
  },
  {
   "cell_type": "markdown",
   "metadata": {},
   "source": [
    "###### Lemon price comparison per month based on wholesale and retail price "
   ]
  },
  {
   "cell_type": "code",
   "execution_count": 45,
   "metadata": {},
   "outputs": [
    {
     "data": {
      "text/plain": [
       "<seaborn.axisgrid.FacetGrid at 0x7fe120361320>"
      ]
     },
     "execution_count": 45,
     "metadata": {},
     "output_type": "execute_result"
    },
    {
     "data": {
      "text/plain": [
       "<Figure size 1440x504 with 0 Axes>"
      ]
     },
     "metadata": {},
     "output_type": "display_data"
    },
    {
     "data": {
      "image/png": "[encoded data removed]",
      "text/plain": [
       "<Figure size 633.109x576 with 1 Axes>"
      ]
     },
     "metadata": {
      "needs_background": "light"
     },
     "output_type": "display_data"
    }
   ],
   "source": [
    "fig = plt.figure(figsize = (20,7))  #figsize\n",
    "ax = sns.catplot(x=\"month\", y=\"average\", hue=\"priceType\", data=lemon,\n",
    "                height=8,kind=\"bar\", palette=\"muted\")\n",
    "ax.set_ylabels(\"Average Price\")\n",
    "ax.set_xlabels(\"Price comparison Month-PriceType\")"
   ]
  },
  {
   "cell_type": "markdown",
   "metadata": {},
   "source": [
    "###### Lemon Price Comparison Wholesale per month per year"
   ]
  },
  {
   "cell_type": "code",
   "execution_count": 46,
   "metadata": {},
   "outputs": [
    {
     "data": {
      "text/plain": [
       "<seaborn.axisgrid.FacetGrid at 0x7fe1201bdbe0>"
      ]
     },
     "execution_count": 46,
     "metadata": {},
     "output_type": "execute_result"
    },
    {
     "data": {
      "text/plain": [
       "<Figure size 1440x504 with 0 Axes>"
      ]
     },
     "metadata": {},
     "output_type": "display_data"
    },
    {
     "data": {
      "image/png": "[encoded data removed]",
      "text/plain": [
       "<Figure size 637.375x576 with 1 Axes>"
      ]
     },
     "metadata": {
      "needs_background": "light"
     },
     "output_type": "display_data"
    }
   ],
   "source": [
    "lemon_w\n",
    "\n",
    "fig = plt.figure(figsize = (20,7))  #figsize\n",
    "ax = sns.catplot(x=\"month\", y=\"average\", hue=\"year\", data=lemon_w,\n",
    "                height=8,kind=\"bar\", palette=\"muted\")\n",
    "ax.set_ylabels(\"Average Price\")\n",
    "ax.set_xlabels(\"Lemon Wholesale Price comparison\")"
   ]
  },
  {
   "cell_type": "markdown",
   "metadata": {},
   "source": [
    "###### Lemon Price Comparison Retail per month per year"
   ]
  },
  {
   "cell_type": "code",
   "execution_count": 48,
   "metadata": {},
   "outputs": [
    {
     "data": {
      "text/plain": [
       "<seaborn.axisgrid.FacetGrid at 0x7fe120327eb8>"
      ]
     },
     "execution_count": 48,
     "metadata": {},
     "output_type": "execute_result"
    },
    {
     "data": {
      "text/plain": [
       "<Figure size 1440x504 with 0 Axes>"
      ]
     },
     "metadata": {},
     "output_type": "display_data"
    },
    {
     "data": {
      "image/png": "[encoded data removed]",
      "text/plain": [
       "<Figure size 637.375x576 with 1 Axes>"
      ]
     },
     "metadata": {
      "needs_background": "light"
     },
     "output_type": "display_data"
    }
   ],
   "source": [
    "fig = plt.figure(figsize = (20,7))  #figsize\n",
    "ax = sns.catplot(x=\"month\", y=\"average\", hue=\"year\", data=lemon_R,\n",
    "                height=8,kind=\"bar\", palette=\"muted\")\n",
    "ax.set_ylabels(\"Average Price\")\n",
    "ax.set_xlabels(\"Lemon Retail Price Comparison\")"
   ]
  },
  {
   "cell_type": "markdown",
   "metadata": {},
   "source": [
    "###### It showed that In both retail and wholesale price showed 2018 mushroom had peak price around \n",
    "    800(wholesale) and 900 (retail) price in average whereas \n",
    "    in 2019 maximum mean price was around 300(wholesale) and 350(retail price)\n",
    "    This showed that there must have been some other factor that affected increase in mushroom price"
   ]
  },
  {
   "cell_type": "markdown",
   "metadata": {},
   "source": [
    "# Plot Seaborn pair plot to check corelation between data"
   ]
  },
  {
   "cell_type": "code",
   "execution_count": 8,
   "metadata": {},
   "outputs": [
    {
     "data": {
      "text/plain": [
       "<seaborn.axisgrid.PairGrid at 0x7fd9d00f04e0>"
      ]
     },
     "execution_count": 8,
     "metadata": {},
     "output_type": "execute_result"
    },
    {
     "data": {
      "image/png": "[encoded data removed]",
      "text/plain": [
       "<Figure size 540x540 with 12 Axes>"
      ]
     },
     "metadata": {
      "needs_background": "light"
     },
     "output_type": "display_data"
    }
   ],
   "source": [
    "sns.pairplot(df)"
   ]
  },
  {
   "cell_type": "markdown",
   "metadata": {},
   "source": [
    "# Plot Heatmap - show values of correlation between every field in mathamatics"
   ]
  },
  {
   "cell_type": "code",
   "execution_count": 9,
   "metadata": {},
   "outputs": [
    {
     "data": {
      "text/plain": [
       "<matplotlib.axes._subplots.AxesSubplot at 0x7fd9dafae908>"
      ]
     },
     "execution_count": 9,
     "metadata": {},
     "output_type": "execute_result"
    },
    {
     "data": {
      "image/png": "[encoded data removed]",
      "text/plain": [
       "<Figure size 432x288 with 2 Axes>"
      ]
     },
     "metadata": {
      "needs_background": "light"
     },
     "output_type": "display_data"
    }
   ],
   "source": [
    "sns.heatmap(df.corr(), linewidth=0.2, vmax=1.0, square= True, linecolor='red', annot=True)"
   ]
  },
  {
   "cell_type": "markdown",
   "metadata": {},
   "source": [
    "# 2. Feature extraction and feature normalization"
   ]
  },
  {
   "cell_type": "code",
   "execution_count": 55,
   "metadata": {},
   "outputs": [
    {
     "data": {
      "text/html": [
       "<div>\n",
       "<style scoped>\n",
       "    .dataframe tbody tr th:only-of-type {\n",
       "        vertical-align: middle;\n",
       "    }\n",
       "\n",
       "    .dataframe tbody tr th {\n",
       "        vertical-align: top;\n",
       "    }\n",
       "\n",
       "    .dataframe thead th {\n",
       "        text-align: right;\n",
       "    }\n",
       "</style>\n",
       "<table border=\"1\" class=\"dataframe\">\n",
       "  <thead>\n",
       "    <tr style=\"text-align: right;\">\n",
       "      <th></th>\n",
       "      <th>Vegetable</th>\n",
       "      <th>Unit</th>\n",
       "      <th>low_price</th>\n",
       "      <th>high_price</th>\n",
       "      <th>average</th>\n",
       "      <th>Date</th>\n",
       "      <th>priceType</th>\n",
       "      <th>year</th>\n",
       "      <th>month</th>\n",
       "      <th>type</th>\n",
       "      <th>t_1</th>\n",
       "      <th>t_2</th>\n",
       "    </tr>\n",
       "  </thead>\n",
       "  <tbody>\n",
       "    <tr>\n",
       "      <th>99167</th>\n",
       "      <td>चमसूरको साग</td>\n",
       "      <td>kg</td>\n",
       "      <td>30</td>\n",
       "      <td>35</td>\n",
       "      <td>33</td>\n",
       "      <td>2020-02-15</td>\n",
       "      <td>W</td>\n",
       "      <td>2020</td>\n",
       "      <td>2</td>\n",
       "      <td>1</td>\n",
       "      <td>33.0</td>\n",
       "      <td>33.0</td>\n",
       "    </tr>\n",
       "    <tr>\n",
       "      <th>98999</th>\n",
       "      <td>चमसूरको साग</td>\n",
       "      <td>kg</td>\n",
       "      <td>30</td>\n",
       "      <td>35</td>\n",
       "      <td>33</td>\n",
       "      <td>2020-02-14</td>\n",
       "      <td>W</td>\n",
       "      <td>2020</td>\n",
       "      <td>2</td>\n",
       "      <td>1</td>\n",
       "      <td>33.0</td>\n",
       "      <td>33.0</td>\n",
       "    </tr>\n",
       "    <tr>\n",
       "      <th>98836</th>\n",
       "      <td>चमसूरको साग</td>\n",
       "      <td>kg</td>\n",
       "      <td>30</td>\n",
       "      <td>35</td>\n",
       "      <td>33</td>\n",
       "      <td>2020-02-13</td>\n",
       "      <td>W</td>\n",
       "      <td>2020</td>\n",
       "      <td>2</td>\n",
       "      <td>1</td>\n",
       "      <td>33.0</td>\n",
       "      <td>33.0</td>\n",
       "    </tr>\n",
       "    <tr>\n",
       "      <th>98675</th>\n",
       "      <td>चमसूरको साग</td>\n",
       "      <td>kg</td>\n",
       "      <td>30</td>\n",
       "      <td>35</td>\n",
       "      <td>33</td>\n",
       "      <td>2020-02-12</td>\n",
       "      <td>W</td>\n",
       "      <td>2020</td>\n",
       "      <td>2</td>\n",
       "      <td>1</td>\n",
       "      <td>33.0</td>\n",
       "      <td>33.0</td>\n",
       "    </tr>\n",
       "    <tr>\n",
       "      <th>98515</th>\n",
       "      <td>चमसूरको साग</td>\n",
       "      <td>kg</td>\n",
       "      <td>30</td>\n",
       "      <td>35</td>\n",
       "      <td>33</td>\n",
       "      <td>2020-02-11</td>\n",
       "      <td>W</td>\n",
       "      <td>2020</td>\n",
       "      <td>2</td>\n",
       "      <td>1</td>\n",
       "      <td>33.0</td>\n",
       "      <td>33.0</td>\n",
       "    </tr>\n",
       "  </tbody>\n",
       "</table>\n",
       "</div>"
      ],
      "text/plain": [
       "         Vegetable Unit  low_price  high_price  average       Date priceType  \\\n",
       "99167  चमसूरको साग   kg         30          35       33 2020-02-15         W   \n",
       "98999  चमसूरको साग   kg         30          35       33 2020-02-14         W   \n",
       "98836  चमसूरको साग   kg         30          35       33 2020-02-13         W   \n",
       "98675  चमसूरको साग   kg         30          35       33 2020-02-12         W   \n",
       "98515  चमसूरको साग   kg         30          35       33 2020-02-11         W   \n",
       "\n",
       "       year  month  type   t_1   t_2  \n",
       "99167  2020      2     1  33.0  33.0  \n",
       "98999  2020      2     1  33.0  33.0  \n",
       "98836  2020      2     1  33.0  33.0  \n",
       "98675  2020      2     1  33.0  33.0  \n",
       "98515  2020      2     1  33.0  33.0  "
      ]
     },
     "execution_count": 55,
     "metadata": {},
     "output_type": "execute_result"
    }
   ],
   "source": [
    "feature_df = []\n",
    "\n",
    "for v in vegetable:\n",
    "    for p_type in ['W', 'R']:\n",
    "        #getting last two days as features\n",
    "        df_v = df[(df['Vegetable'] == v) & (df['priceType'] == p_type)]\n",
    "        df_v = df_v.sort_values(by=['Date'], ascending = False)\n",
    "\n",
    "        if p_type == 'W':\n",
    "            df_v['type'] = 1\n",
    "        else:\n",
    "            df_v['type'] = 0\n",
    "        \n",
    "        df_v['t_1'] = df_v.shift(-1)['average']                \n",
    "        df_v['t_2'] = df_v.shift(-2)['average']\n",
    "        feature_df.append(df_v)\n",
    "        \n",
    "feature_df = pd.concat(feature_df)\n",
    "feature_df.head()"
   ]
  },
  {
   "cell_type": "code",
   "execution_count": 56,
   "metadata": {},
   "outputs": [
    {
     "data": {
      "text/html": [
       "<div>\n",
       "<style scoped>\n",
       "    .dataframe tbody tr th:only-of-type {\n",
       "        vertical-align: middle;\n",
       "    }\n",
       "\n",
       "    .dataframe tbody tr th {\n",
       "        vertical-align: top;\n",
       "    }\n",
       "\n",
       "    .dataframe thead th {\n",
       "        text-align: right;\n",
       "    }\n",
       "</style>\n",
       "<table border=\"1\" class=\"dataframe\">\n",
       "  <thead>\n",
       "    <tr style=\"text-align: right;\">\n",
       "      <th></th>\n",
       "      <th>Vegetable</th>\n",
       "      <th>Unit</th>\n",
       "      <th>low_price</th>\n",
       "      <th>high_price</th>\n",
       "      <th>average</th>\n",
       "      <th>Date</th>\n",
       "      <th>priceType</th>\n",
       "      <th>year</th>\n",
       "      <th>month</th>\n",
       "      <th>type</th>\n",
       "      <th>t_1</th>\n",
       "      <th>t_2</th>\n",
       "    </tr>\n",
       "  </thead>\n",
       "  <tbody>\n",
       "    <tr>\n",
       "      <th>63154</th>\n",
       "      <td>आलु रातो(मुडे)</td>\n",
       "      <td>kg</td>\n",
       "      <td>45</td>\n",
       "      <td>50</td>\n",
       "      <td>48</td>\n",
       "      <td>2019-06-27</td>\n",
       "      <td>R</td>\n",
       "      <td>2019</td>\n",
       "      <td>6</td>\n",
       "      <td>0</td>\n",
       "      <td>48.0</td>\n",
       "      <td>48.0</td>\n",
       "    </tr>\n",
       "    <tr>\n",
       "      <th>62995</th>\n",
       "      <td>आलु रातो(मुडे)</td>\n",
       "      <td>kg</td>\n",
       "      <td>45</td>\n",
       "      <td>50</td>\n",
       "      <td>48</td>\n",
       "      <td>2019-06-26</td>\n",
       "      <td>R</td>\n",
       "      <td>2019</td>\n",
       "      <td>6</td>\n",
       "      <td>0</td>\n",
       "      <td>48.0</td>\n",
       "      <td>48.0</td>\n",
       "    </tr>\n",
       "    <tr>\n",
       "      <th>62834</th>\n",
       "      <td>आलु रातो(मुडे)</td>\n",
       "      <td>kg</td>\n",
       "      <td>45</td>\n",
       "      <td>50</td>\n",
       "      <td>48</td>\n",
       "      <td>2019-06-25</td>\n",
       "      <td>R</td>\n",
       "      <td>2019</td>\n",
       "      <td>6</td>\n",
       "      <td>0</td>\n",
       "      <td>48.0</td>\n",
       "      <td>48.0</td>\n",
       "    </tr>\n",
       "    <tr>\n",
       "      <th>62675</th>\n",
       "      <td>आलु रातो(मुडे)</td>\n",
       "      <td>kg</td>\n",
       "      <td>45</td>\n",
       "      <td>50</td>\n",
       "      <td>48</td>\n",
       "      <td>2019-06-24</td>\n",
       "      <td>R</td>\n",
       "      <td>2019</td>\n",
       "      <td>6</td>\n",
       "      <td>0</td>\n",
       "      <td>48.0</td>\n",
       "      <td>NaN</td>\n",
       "    </tr>\n",
       "    <tr>\n",
       "      <th>62516</th>\n",
       "      <td>आलु रातो(मुडे)</td>\n",
       "      <td>kg</td>\n",
       "      <td>45</td>\n",
       "      <td>50</td>\n",
       "      <td>48</td>\n",
       "      <td>2019-06-23</td>\n",
       "      <td>R</td>\n",
       "      <td>2019</td>\n",
       "      <td>6</td>\n",
       "      <td>0</td>\n",
       "      <td>NaN</td>\n",
       "      <td>NaN</td>\n",
       "    </tr>\n",
       "  </tbody>\n",
       "</table>\n",
       "</div>"
      ],
      "text/plain": [
       "            Vegetable Unit  low_price  high_price  average       Date  \\\n",
       "63154  आलु रातो(मुडे)   kg         45          50       48 2019-06-27   \n",
       "62995  आलु रातो(मुडे)   kg         45          50       48 2019-06-26   \n",
       "62834  आलु रातो(मुडे)   kg         45          50       48 2019-06-25   \n",
       "62675  आलु रातो(मुडे)   kg         45          50       48 2019-06-24   \n",
       "62516  आलु रातो(मुडे)   kg         45          50       48 2019-06-23   \n",
       "\n",
       "      priceType  year  month  type   t_1   t_2  \n",
       "63154         R  2019      6     0  48.0  48.0  \n",
       "62995         R  2019      6     0  48.0  48.0  \n",
       "62834         R  2019      6     0  48.0  48.0  \n",
       "62675         R  2019      6     0  48.0   NaN  \n",
       "62516         R  2019      6     0   NaN   NaN  "
      ]
     },
     "execution_count": 56,
     "metadata": {},
     "output_type": "execute_result"
    }
   ],
   "source": [
    "feature_df.tail()"
   ]
  },
  {
   "cell_type": "markdown",
   "metadata": {},
   "source": [
    "##### Data Cleaning - Deleting rows having null"
   ]
  },
  {
   "cell_type": "code",
   "execution_count": 57,
   "metadata": {},
   "outputs": [
    {
     "name": "stdout",
     "output_type": "stream",
     "text": [
      "[[   0.  125.  125.]\n",
      " [   0.   45.   55.]\n",
      " [   0.  125.  135.]\n",
      " ...\n",
      " [   0.   85.   85.]\n",
      " [   0.   75.   75.]\n",
      " [   0. 1125. 1125.]]\n"
     ]
    }
   ],
   "source": [
    "feature_df.dropna(inplace = True)\n",
    "\n",
    "feature_df = feature_df.sample(frac=1, random_state = 1)\n",
    "X = feature_df[['type' , 't_1', 't_2']].values\n",
    "print(X)"
   ]
  },
  {
   "cell_type": "code",
   "execution_count": 58,
   "metadata": {},
   "outputs": [
    {
     "name": "stdout",
     "output_type": "stream",
     "text": [
      "[[1.000e+00 0.000e+00 1.250e+02 1.250e+02]\n",
      " [1.000e+00 0.000e+00 4.500e+01 5.500e+01]\n",
      " [1.000e+00 0.000e+00 1.250e+02 1.350e+02]\n",
      " ...\n",
      " [1.000e+00 0.000e+00 8.500e+01 8.500e+01]\n",
      " [1.000e+00 0.000e+00 7.500e+01 7.500e+01]\n",
      " [1.000e+00 0.000e+00 1.125e+03 1.125e+03]]\n"
     ]
    }
   ],
   "source": [
    "#Add Bias...Adding 1 to first column\n",
    "\n",
    "X = np.insert(X, 0, values=1, axis = 1)\n",
    "print(X)"
   ]
  },
  {
   "cell_type": "code",
   "execution_count": 59,
   "metadata": {},
   "outputs": [
    {
     "name": "stdout",
     "output_type": "stream",
     "text": [
      "(98822, 4)\n"
     ]
    }
   ],
   "source": [
    "print(X.shape)"
   ]
  },
  {
   "cell_type": "code",
   "execution_count": 60,
   "metadata": {},
   "outputs": [
    {
     "name": "stdout",
     "output_type": "stream",
     "text": [
      "[ 105   45  115 ...   85   75 1125]\n",
      "(98822,)\n"
     ]
    }
   ],
   "source": [
    "y = feature_df['average'].values\n",
    "print(y)\n",
    "print(y.shape)"
   ]
  },
  {
   "cell_type": "code",
   "execution_count": 61,
   "metadata": {},
   "outputs": [
    {
     "name": "stdout",
     "output_type": "stream",
     "text": [
      "98822 19764\n"
     ]
    }
   ],
   "source": [
    "total = len(X)\n",
    "train = int(0.6*total)\n",
    "val = int(0.2*total)\n",
    "print(total, val)"
   ]
  },
  {
   "cell_type": "markdown",
   "metadata": {},
   "source": [
    "##### Data splitting"
   ]
  },
  {
   "cell_type": "code",
   "execution_count": 62,
   "metadata": {},
   "outputs": [
    {
     "name": "stdout",
     "output_type": "stream",
     "text": [
      "59293 19764 19765\n"
     ]
    }
   ],
   "source": [
    "#spliting data into 60% train set 20% validate set and 20% test set\n",
    "X_train = X[:train]\n",
    "y_train =y[:train].reshape(-1,1)\n",
    "\n",
    "#validation \n",
    "X_val = X[train:train+val]\n",
    "y_val = y[train:train+val].reshape(-1,1)\n",
    "\n",
    "#test \n",
    "X_test = X[train+val :]\n",
    "y_test = y[train+val :].reshape(-1,1)\n",
    "\n",
    "print(len(X_train), len(X_val), len(X_test))\n"
   ]
  },
  {
   "cell_type": "code",
   "execution_count": 63,
   "metadata": {},
   "outputs": [
    {
     "data": {
      "text/plain": [
       "array([[105],\n",
       "       [ 45],\n",
       "       [115],\n",
       "       ...,\n",
       "       [ 75],\n",
       "       [ 45],\n",
       "       [ 38]])"
      ]
     },
     "execution_count": 63,
     "metadata": {},
     "output_type": "execute_result"
    }
   ],
   "source": [
    "y_train\n"
   ]
  },
  {
   "cell_type": "markdown",
   "metadata": {},
   "source": [
    "##### mean max normalization\n",
    "#Find min max of training set..Train it \n",
    "#Use it in Val and Test set"
   ]
  },
  {
   "cell_type": "code",
   "execution_count": 64,
   "metadata": {},
   "outputs": [],
   "source": [
    "price_X = X_train[:,2:]\n",
    "\n",
    "min_v = np.min(price_X)\n",
    "max_v = np.max(price_X)\n",
    "diff = max_v-min_v\n",
    "\n",
    "def min_max_normalization(dataset):\n",
    "    for i in range(0,dataset.shape[0]):\n",
    "        for j in range(2,dataset.shape[1]):\n",
    "            dataset[i][j]=(dataset[i][j]-min_v)/diff"
   ]
  },
  {
   "cell_type": "code",
   "execution_count": 65,
   "metadata": {},
   "outputs": [],
   "source": [
    "min_max_normalization(X_train)\n",
    "min_max_normalization(X_val)\n",
    "min_max_normalization(X_test)"
   ]
  },
  {
   "cell_type": "code",
   "execution_count": 66,
   "metadata": {},
   "outputs": [
    {
     "name": "stdout",
     "output_type": "stream",
     "text": [
      "59293\n",
      "(59293, 1)\n",
      "(19764, 4)\n",
      "(19764, 1)\n",
      "(19765, 4)\n",
      "(19765, 1)\n"
     ]
    }
   ],
   "source": [
    "#Numpy array can be directly manipulated\n",
    "print(X_train.shape[0])\n",
    "print(y_train.shape)\n",
    "print(X_val.shape)\n",
    "print(y_val.shape)\n",
    "print(X_test.shape)\n",
    "print(y_test.shape)"
   ]
  },
  {
   "cell_type": "markdown",
   "metadata": {},
   "source": [
    "# 3. Grid search parameter with val loss "
   ]
  },
  {
   "cell_type": "code",
   "execution_count": 67,
   "metadata": {},
   "outputs": [],
   "source": [
    "np.random.seed(42)\n",
    "\n",
    "train_error=[]\n",
    "\n",
    "params ={\n",
    "    'num_of_iteration': 10000,\n",
    "    'learning_rate': 0.1\n",
    "}\n",
    "\n",
    "grid_param ={\n",
    "    'num_of_iteration': [1000, 2000, 5000],\n",
    "    'learning_rate': [0.5, 0.01, 0.1]\n",
    "}\n",
    "\n",
    "def MSE(h,y):\n",
    "    return 0.5*np.average((h-y)**2)"
   ]
  },
  {
   "cell_type": "markdown",
   "metadata": {},
   "source": [
    "# 4. Model Training and plot Train loss plot  to select he best model [best hyper-parameters and parameters]\n"
   ]
  },
  {
   "cell_type": "code",
   "execution_count": 76,
   "metadata": {},
   "outputs": [],
   "source": [
    "def train_model(X_train, y_train, X_Val, y_val,  param):\n",
    "\n",
    "    W = np.random.rand(X_train.shape[1]).reshape(-1,1)\n",
    "\n",
    "    train_error = []\n",
    "\n",
    "    val_error = []\n",
    "    print(\"params\", param)\n",
    "    for i in range(1, param['num_of_iteration']):\n",
    "        h_train = np.matmul(X_train, W)\n",
    "        \n",
    "        train_loss = MSE(h_train, y_train)\n",
    "        if i%10==0:\n",
    "            train_error.append(train_loss)\n",
    "        gradient = np.matmul(np.transpose(X_train),(h_train - y_train))/X_train.shape[0]   \n",
    "\n",
    "        W = W - param['learning_rate'] * gradient\n",
    "                         \n",
    "        h_val = np.matmul(X_val, W)\n",
    "        val_loss = MSE(h_val, y_val)\n",
    "        val_error.append(val_loss)\n",
    "#     plt.plot(train_error)\n",
    "#     plt.xlabel('Iteratopns(per tens)')\n",
    "#     plt.ylabel('Training Cost')\n",
    "#     plt.title('Learning Rate')\n",
    "#     plt.show()\n",
    "    print(val_loss)\n",
    "    plt.plot(val_error)\n",
    "    plt.xlabel('Iteratopns(per tens)')\n",
    "    plt.ylabel('Validation Cost')\n",
    "    plt.title('Learning Rate')\n",
    "    plt.show()\n",
    "    return W"
   ]
  },
  {
   "cell_type": "code",
   "execution_count": 73,
   "metadata": {},
   "outputs": [
    {
     "name": "stdout",
     "output_type": "stream",
     "text": [
      "(59293, 4)\n",
      "(59293, 1)\n",
      "(19764, 4)\n",
      "(19764, 1)\n",
      "(19765, 4)\n",
      "(19765, 1)\n"
     ]
    },
    {
     "data": {
      "text/plain": [
       "{'num_of_iteration': 10000, 'learning_rate': 0.1}"
      ]
     },
     "execution_count": 73,
     "metadata": {},
     "output_type": "execute_result"
    }
   ],
   "source": [
    "#Numpy array can be directly manipulated\n",
    "print(X_train.shape)\n",
    "print(y_train.shape)\n",
    "print(X_val.shape)\n",
    "print(y_val.shape)\n",
    "print(X_test.shape)\n",
    "print(y_test.shape)\n",
    "params"
   ]
  },
  {
   "cell_type": "code",
   "execution_count": 77,
   "metadata": {},
   "outputs": [
    {
     "name": "stdout",
     "output_type": "stream",
     "text": [
      "params {'num_of_iteration': 10000, 'learning_rate': 0.1}\n",
      "88.07534284158258\n"
     ]
    },
    {
     "data": {
      "image/png": "[encoded data removed]",
      "text/plain": [
       "<Figure size 432x288 with 1 Axes>"
      ]
     },
     "metadata": {
      "needs_background": "light"
     },
     "output_type": "display_data"
    },
    {
     "data": {
      "text/plain": [
       "array([[ 1.16247543e+01],\n",
       "       [-5.61348955e-01],\n",
       "       [ 8.08958305e+02],\n",
       "       [ 7.69456457e+02]])"
      ]
     },
     "execution_count": 77,
     "metadata": {},
     "output_type": "execute_result"
    }
   ],
   "source": [
    "train_model(X_train, y_train, X_val, y_val, params)"
   ]
  },
  {
   "cell_type": "code",
   "execution_count": 78,
   "metadata": {},
   "outputs": [
    {
     "name": "stdout",
     "output_type": "stream",
     "text": [
      "params {'num_of_iteration': 1000, 'learning_rate': 0.5}\n",
      "115.754440067621\n"
     ]
    },
    {
     "data": {
      "image/png": "[encoded data removed]",
      "text/plain": [
       "<Figure size 432x288 with 1 Axes>"
      ]
     },
     "metadata": {
      "needs_background": "light"
     },
     "output_type": "display_data"
    },
    {
     "name": "stdout",
     "output_type": "stream",
     "text": [
      "params {'num_of_iteration': 1000, 'learning_rate': 0.01}\n",
      "2827.5706717240128\n"
     ]
    },
    {
     "data": {
      "image/png": "[encoded data removed]",
      "text/plain": [
       "<Figure size 432x288 with 1 Axes>"
      ]
     },
     "metadata": {
      "needs_background": "light"
     },
     "output_type": "display_data"
    },
    {
     "name": "stdout",
     "output_type": "stream",
     "text": [
      "params {'num_of_iteration': 1000, 'learning_rate': 0.1}\n",
      "1251.6974259519625\n"
     ]
    },
    {
     "data": {
      "image/png": "[encoded data removed]",
      "text/plain": [
       "<Figure size 432x288 with 1 Axes>"
      ]
     },
     "metadata": {
      "needs_background": "light"
     },
     "output_type": "display_data"
    },
    {
     "name": "stdout",
     "output_type": "stream",
     "text": [
      "params {'num_of_iteration': 2000, 'learning_rate': 0.5}\n",
      "88.08282646124177\n"
     ]
    },
    {
     "data": {
      "image/png": "[encoded data removed]",
      "text/plain": [
       "<Figure size 432x288 with 1 Axes>"
      ]
     },
     "metadata": {
      "needs_background": "light"
     },
     "output_type": "display_data"
    },
    {
     "name": "stdout",
     "output_type": "stream",
     "text": [
      "params {'num_of_iteration': 2000, 'learning_rate': 0.01}\n",
      "2565.9514309797964\n"
     ]
    },
    {
     "data": {
      "image/png": "[encoded data removed]",
      "text/plain": [
       "<Figure size 432x288 with 1 Axes>"
      ]
     },
     "metadata": {
      "needs_background": "light"
     },
     "output_type": "display_data"
    },
    {
     "name": "stdout",
     "output_type": "stream",
     "text": [
      "params {'num_of_iteration': 2000, 'learning_rate': 0.1}\n",
      "541.5128000755625\n"
     ]
    },
    {
     "data": {
      "image/png": "[encoded data removed]",
      "text/plain": [
       "<Figure size 432x288 with 1 Axes>"
      ]
     },
     "metadata": {
      "needs_background": "light"
     },
     "output_type": "display_data"
    },
    {
     "name": "stdout",
     "output_type": "stream",
     "text": [
      "params {'num_of_iteration': 5000, 'learning_rate': 0.5}\n",
      "86.44871899233291\n"
     ]
    },
    {
     "data": {
      "image/png": "[encoded data removed]",
      "text/plain": [
       "<Figure size 432x288 with 1 Axes>"
      ]
     },
     "metadata": {
      "needs_background": "light"
     },
     "output_type": "display_data"
    },
    {
     "name": "stdout",
     "output_type": "stream",
     "text": [
      "params {'num_of_iteration': 5000, 'learning_rate': 0.01}\n",
      "1952.29655673453\n"
     ]
    },
    {
     "data": {
      "image/png": "[encoded data removed]",
      "text/plain": [
       "<Figure size 432x288 with 1 Axes>"
      ]
     },
     "metadata": {
      "needs_background": "light"
     },
     "output_type": "display_data"
    },
    {
     "name": "stdout",
     "output_type": "stream",
     "text": [
      "params {'num_of_iteration': 5000, 'learning_rate': 0.1}\n",
      "115.76725007234438\n"
     ]
    },
    {
     "data": {
      "image/png": "[encoded data removed]",
      "text/plain": [
       "<Figure size 432x288 with 1 Axes>"
      ]
     },
     "metadata": {
      "needs_background": "light"
     },
     "output_type": "display_data"
    }
   ],
   "source": [
    "import itertools\n",
    "grid = list(itertools.product(grid_param['num_of_iteration'], grid_param['learning_rate']))\n",
    "\n",
    "for g in grid:\n",
    "    p = {\n",
    "        'num_of_iteration': g[0],\n",
    "        'learning_rate' : g[1]\n",
    "    }\n",
    "\n",
    "    train_model(X_train, y_train, X_val, y_val, p)"
   ]
  },
  {
   "cell_type": "markdown",
   "metadata": {},
   "source": [
    "###### Above Val error plot showed that Learning  Rate 0.5 and iteration 5000 had val_loss og 86 so considering this parameter for testing data set"
   ]
  },
  {
   "cell_type": "markdown",
   "metadata": {},
   "source": [
    "# 5. Model evaluation [R2 score] using the test set. "
   ]
  },
  {
   "cell_type": "code",
   "execution_count": 83,
   "metadata": {},
   "outputs": [
    {
     "data": {
      "text/plain": [
       "(array([[1.        , 1.        , 0.01485149, 0.02413366],\n",
       "        [1.        , 1.        , 0.11200495, 0.11200495],\n",
       "        [1.        , 1.        , 0.07178218, 0.07178218],\n",
       "        ...,\n",
       "        [1.        , 0.        , 0.0470297 , 0.0470297 ],\n",
       "        [1.        , 0.        , 0.04084158, 0.04084158],\n",
       "        [1.        , 0.        , 0.69059406, 0.69059406]]),\n",
       " array([[  38],\n",
       "        [ 190],\n",
       "        [ 125],\n",
       "        ...,\n",
       "        [  85],\n",
       "        [  75],\n",
       "        [1125]]))"
      ]
     },
     "execution_count": 83,
     "metadata": {},
     "output_type": "execute_result"
    }
   ],
   "source": [
    "X_test, y_test"
   ]
  },
  {
   "cell_type": "code",
   "execution_count": 84,
   "metadata": {},
   "outputs": [
    {
     "name": "stdout",
     "output_type": "stream",
     "text": [
      "params {'num_of_iteration': 5000, 'learning_rate': 0.5}\n",
      "86.45270202712216\n"
     ]
    },
    {
     "data": {
      "image/png": "[encoded data removed]",
      "text/plain": [
       "<Figure size 432x288 with 1 Axes>"
      ]
     },
     "metadata": {
      "needs_background": "light"
     },
     "output_type": "display_data"
    }
   ],
   "source": [
    "final_param ={\n",
    "    'num_of_iteration': 5000,\n",
    "    'learning_rate': 0.5\n",
    "}\n",
    "model_weights = train_model(X_train, y_train, X_val, y_val, final_param)\n"
   ]
  },
  {
   "cell_type": "code",
   "execution_count": 85,
   "metadata": {},
   "outputs": [
    {
     "data": {
      "text/plain": [
       "(4, 1)"
      ]
     },
     "execution_count": 85,
     "metadata": {},
     "output_type": "execute_result"
    }
   ],
   "source": [
    "model_weights.shape"
   ]
  },
  {
   "cell_type": "markdown",
   "metadata": {},
   "source": [
    "# R2"
   ]
  },
  {
   "cell_type": "code",
   "execution_count": 87,
   "metadata": {},
   "outputs": [
    {
     "name": "stdout",
     "output_type": "stream",
     "text": [
      "[[  40.96293019]\n",
      " [ 188.64038094]\n",
      " [ 124.60895036]\n",
      " ...\n",
      " [  85.57108775]\n",
      " [  75.72009843]\n",
      " [1110.0739769 ]] 0.4055376462418567\n",
      "19765 3\n",
      "4438827117143.599\n",
      "4439855864372.033\n",
      "R2:  0.9997682926518652\n"
     ]
    }
   ],
   "source": [
    "y_mean = np.mean(X_test)\n",
    "h_test = np.matmul(X_test, model_weights)\n",
    "y_pred = h_test\n",
    "print(h_test, y_mean)\n",
    "n = X_test.shape[0]\n",
    "k = X_test.shape[1] - 1\n",
    "print(n, k)\n",
    "\n",
    "SSE = np.sum(y_pred-y_mean)**2\n",
    "print(SSE)\n",
    "SST = np.sum(y_test-y_mean)**2\n",
    "print(SST)\n",
    "\n",
    "R2  = SSE/SST\n",
    "print(\"R2: \", R2)"
   ]
  },
  {
   "cell_type": "markdown",
   "metadata": {},
   "source": [
    "###### R2 error is: 0.99"
   ]
  },
  {
   "cell_type": "markdown",
   "metadata": {},
   "source": [
    "###### File link: \n",
    "https://github.com/Kristiee/Linear-regression"
   ]
  },
  {
   "cell_type": "code",
   "execution_count": null,
   "metadata": {},
   "outputs": [],
   "source": []
  }
 ],
 "metadata": {
  "kernelspec": {
   "display_name": "Python 3",
   "language": "python",
   "name": "python3"
  },
  "language_info": {
   "codemirror_mode": {
    "name": "ipython",
    "version": 3
   },
   "file_extension": ".py",
   "mimetype": "text/x-python",
   "name": "python",
   "nbconvert_exporter": "python",
   "pygments_lexer": "ipython3",
   "version": "3.6.9"
  }
 },
 "nbformat": 4,
 "nbformat_minor": 4
}
